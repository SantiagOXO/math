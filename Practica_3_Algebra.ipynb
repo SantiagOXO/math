{
  "nbformat": 4,
  "nbformat_minor": 0,
  "metadata": {
    "colab": {
      "provenance": [],
      "include_colab_link": true
    },
    "kernelspec": {
      "name": "python3",
      "display_name": "Python 3"
    },
    "language_info": {
      "name": "python"
    }
  },
  "cells": [
    {
      "cell_type": "markdown",
      "metadata": {
        "id": "view-in-github",
        "colab_type": "text"
      },
      "source": [
        "<a href=\"https://colab.research.google.com/github/SantiagOXO/math/blob/main/Practica_3_Algebra.ipynb\" target=\"_parent\"><img src=\"https://colab.research.google.com/assets/colab-badge.svg\" alt=\"Open In Colab\"/></a>"
      ]
    },
    {
      "cell_type": "markdown",
      "source": [
        "# Práctica 3. Álgebra\n",
        "* Para aprender sobre Python vea la playlist [Python para Matemáticas](https://www.youtube.com/playlist?list=PL8gpDXwO-9l4HkDJ9QhB4H-cOiT0BYGau)\n",
        "* Para obtener ideas y vídeos para la resolución de la práctica vea los archivos siguientes: [Ideas](https://github.com/financieras/math/tree/main/ideas)"
      ],
      "metadata": {
        "id": "b13aYMDxmd7v"
      }
    },
    {
      "cell_type": "markdown",
      "source": [
        "## Práctica 3.1\n",
        "**Determinante en Excel**  \n",
        "\n",
        "* Cree un fichero en Excel de nombre algebra.xlsm.\n",
        "* La extensión **xlsm** corresponde a los archivos de Excel habilitados para macros.\n",
        "* Utilice la Hoja 1 para hacer la Práctica 3.1.\n",
        "* Se pide:\n",
        " 1. Cree una matriz cuadrada de dimensión 5×5, formada por números aleatorios enteros entre -9 y +9.\n",
        " 2. Calcule el determinante de esta matriz\n",
        " 3. Cree un programa en **VBA** que busque una matriz de este tipo cuyo determinante sea cero.\n",
        " 4. Copie la matriz encontrada y péguela debajo con \"pegado especial valores\" para que no varíe su contenido al efectuar el recálculo manual de la hoja."
      ],
      "metadata": {
        "id": "XWa9IdzJmpbB"
      }
    },
    {
      "cell_type": "markdown",
      "source": [
        "## Práctica 3.2\n",
        "**Matriz inversa en Excel**  \n",
        "\n",
        "* Use el mismo archivo de Excel con extensión **xlsm** del caso anterior. \n",
        "* Utilice la Hoja 2 para hacer la Práctica 3.2.\n",
        "* Se pide:\n",
        " 1. Crea la matriz $A$ que es una matriz cuadrada de dimensiones 5×5 usando números aleatorios enteros entre -9 y +9, excepto cero\n",
        " 2. Calcule su determinante\n",
        " 3. Calcule su transpuesta usando la función ```TRANSPONER```\n",
        " 4. Calcule su matriz inversa $A^{-1}$\n",
        " 5. Multiplique la matriz $A$ por su inversa $A^{-1}$ y compruebe que el producto es la matriz identidad.\n",
        " $$AA^{-1}=I$$"
      ],
      "metadata": {
        "id": "cP-ppBE1rzGW"
      }
    },
    {
      "cell_type": "markdown",
      "source": [
        "## Práctica 3.3\n",
        "**Resolución de sistemas lineales en Excel**  \n",
        "\n",
        "* Use el mismo archivo de Excel con extensión **xlsm** del caso anterior. \n",
        "* Utilice la Hoja 3 para hacer la Práctica 3.3.\n",
        "* Se pide:\n",
        " 1. Cree un sistema de 5 ecuaciones con 5 incógnitas con **solución única**.\n",
        " 2. Una de las ecuaciones será: $\\quad x_1+2x_2-x_3+x_4-3x_5=6$\n",
        " 3. Muestre las ecuaciones del sistema usando el [editor de ecuaciones](https://support.microsoft.com/es-es/office/editor-de-ecuaciones-6eac7d71-3c74-437b-80d3-c7dea24fdf3f) de Excel. $\\quad Ax=b$\n",
        " 4. Monte la matriz $A$ del sistema de ecuaciones y la matriz $b$ con los términos independientes. Muestre ambas matrices.\n",
        " 5. Calcule la matriz inversa $A^{-1}$\n",
        " 6. Resuelva el sistema lineal de ecuaciones con este método: $\\quad Ax=b \\quad \\Longrightarrow \\quad x=A^{-1}b$\n",
        " 7. Compruebe si el resultado obtenido es la solución del sistema de ecuaciones. Justifique esa comprobación."
      ],
      "metadata": {
        "id": "jJRClauctBdf"
      }
    },
    {
      "cell_type": "markdown",
      "source": [
        "## Práctica 3.4\n",
        "**Matriz inversa en Python**  \n",
        "\n",
        "Desarrolla un código en Python que al ejecutarse consiga los siguientes apartados.  \n",
        "1. Crea una matriz cuadrada de dimensiones 3×3 usando números aleatorios enteros entre -9 y +9, excepto cero\n",
        "2. Buscar un caso donde el determinante sea igual a 1\n",
        "3. Si el determinante es 1 imprime la matriz y su determinante\n",
        "4. Calcula e imprime su transpuesta\n",
        "5. Calcula e imprime su matriz inversa\n",
        "6. Multiplica la matriz creada por su inversa y comprueba que el producto es la matriz identidad.\n",
        "7. Calcula cuantos segundos ha tardado en realizarse el proceso."
      ],
      "metadata": {
        "id": "EMlUZC6Lqzfs"
      }
    },
    {
      "cell_type": "markdown",
      "source": [
        "### 3.4.1 Matriz cuadrada de dimensiones 3×3 usando números aleatorios enteros entre -9 y +9, excepto cero"
      ],
      "metadata": {
        "id": "7OuooFBqO3yS"
      }
    },
    {
      "cell_type": "code",
      "source": [
        "from random import randint, choice, seed\n",
        "seed()\n",
        "matriz = []\n",
        "for i in range(3):\n",
        "    fila = []\n",
        "    for j in range(3):\n",
        "        fila.append(randint(1,9) * choice([1,-1]))\n",
        "    matriz.append(fila)\n",
        "\n",
        "matriz "
      ],
      "metadata": {
        "id": "MyA1Zn4fP93Y"
      },
      "execution_count": null,
      "outputs": []
    },
    {
      "cell_type": "markdown",
      "source": [
        "### 3.4.2 y 3.4.3 Matriz dónde el determinante es 1"
      ],
      "metadata": {
        "id": "xeDtmXsQPC8q"
      }
    },
    {
      "cell_type": "code",
      "source": [
        "import numpy as np\n",
        "from random import randint, choice, seed\n",
        "\n",
        "n = 3   \n",
        "\n",
        "while True:\n",
        "    m = np.random.randint( -9,10 , size=(n, n))  \n",
        "    determ = np.linalg.det(m)\n",
        "    if determ == 1:\n",
        "        print(m)\n",
        "        break\n",
        "\n",
        "print(f\"\\nEl determinante de la matriz es {determ}\\n\")"
      ],
      "metadata": {
        "id": "Wr3XXvpHc3qQ",
        "colab": {
          "base_uri": "https://localhost:8080/"
        },
        "outputId": "6666e906-7434-462d-b458-041114eb364e"
      },
      "execution_count": 50,
      "outputs": [
        {
          "output_type": "stream",
          "name": "stdout",
          "text": [
            "[[-3 -2  3]\n",
            " [ 5  3 -7]\n",
            " [ 8  8  9]]\n",
            "\n",
            "El determinante de la matriz es 1.0\n",
            "\n"
          ]
        }
      ]
    },
    {
      "cell_type": "markdown",
      "source": [
        "### TRABAJAREMOS CON LA MATRIZ OBTENIDA EN EL APARTADO ANTERIOR\n",
        "![Captura de pantalla (169).png](data:image/png;base64,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)"
      ],
      "metadata": {
        "id": "76e76UmzN6QO"
      }
    },
    {
      "cell_type": "markdown",
      "source": [
        "### 3.4.4 Calcular e imprimir la matriz transpuesta"
      ],
      "metadata": {
        "id": "MsYvuPA0PZvM"
      }
    },
    {
      "cell_type": "code",
      "source": [
        "import numpy as np\n",
        "m = np.array([[-3,-2,3],[5,3,-7],[8,8,9]])\n",
        "print(\"\\nMatriz:\\n\")\n",
        "print(m)\n",
        "print(\"\\nMatriz Trasnpuesta:\\n\")\n",
        "print(np.transpose(m))"
      ],
      "metadata": {
        "id": "C5lK5xumj0W0",
        "outputId": "fddf2e1e-b927-45a2-face-bdf88d6105f0",
        "colab": {
          "base_uri": "https://localhost:8080/"
        }
      },
      "execution_count": 54,
      "outputs": [
        {
          "output_type": "stream",
          "name": "stdout",
          "text": [
            "\n",
            "Matriz:\n",
            "\n",
            "[[-3 -2  3]\n",
            " [ 5  3 -7]\n",
            " [ 8  8  9]]\n",
            "\n",
            "Matriz Trasnpuesta:\n",
            "\n",
            "[[-3  5  8]\n",
            " [-2  3  8]\n",
            " [ 3 -7  9]]\n"
          ]
        }
      ]
    },
    {
      "cell_type": "markdown",
      "source": [
        "### 3.4.5 Calcular e imprimir su matriz inversa\n",
        "### 3.4.6 Multiplición de la matriz creada por su inversa y comprobación de que el producto es la matriz identidad."
      ],
      "metadata": {
        "id": "kw16F2ERPmpQ"
      }
    },
    {
      "cell_type": "code",
      "source": [
        "import numpy as np\n",
        "\n",
        "m = np.array([[-3,-2,3],[5,3,-7],[8,8,9]])\n",
        "print(\"\\nMatriz:\\n\")\n",
        "print(m)\n",
        "print()\n",
        "\n",
        "print(\"\\nInversa:\\n\")\n",
        "minv = np.linalg.inv(m)\n",
        "print(minv)\n",
        "print()\n",
        "\n",
        "print(\"\\nMatriz Identidad:\\n\")\n",
        "identidad = np.dot(m, minv)   \n",
        "print(identidad)\n",
        "print()\n",
        "\n",
        "print(\"\\nMatriz Identidad con valores enteros:\\n\")\n",
        "print(identidad.astype(int))   "
      ],
      "metadata": {
        "id": "pvhdVYV1lArO",
        "colab": {
          "base_uri": "https://localhost:8080/"
        },
        "outputId": "57b70f32-ff63-4437-c9cb-3e8cc755256f"
      },
      "execution_count": 56,
      "outputs": [
        {
          "output_type": "stream",
          "name": "stdout",
          "text": [
            "\n",
            "Matriz:\n",
            "\n",
            "[[-3 -2  3]\n",
            " [ 5  3 -7]\n",
            " [ 8  8  9]]\n",
            "\n",
            "\n",
            "Inversa:\n",
            "\n",
            "[[  83.   42.    5.]\n",
            " [-101.  -51.   -6.]\n",
            " [  16.    8.    1.]]\n",
            "\n",
            "\n",
            "Matriz Identidad:\n",
            "\n",
            "[[1. 0. 0.]\n",
            " [0. 1. 0.]\n",
            " [0. 0. 1.]]\n",
            "\n",
            "\n",
            "Matriz Identidad con valores enteros:\n",
            "\n",
            "[[1 0 0]\n",
            " [0 1 0]\n",
            " [0 0 1]]\n"
          ]
        }
      ]
    },
    {
      "cell_type": "markdown",
      "source": [
        "### 3.4.7 Tiempo que ha tardado en realizarse el proceso"
      ],
      "metadata": {
        "id": "FSqFaZ63Q-H3"
      }
    },
    {
      "cell_type": "code",
      "source": [
        "from time import process_time\n",
        "\n",
        "t1 = process_time()\n",
        "\n",
        "for i in range(10_000_000):\n",
        "    cuadrado = i**2\n",
        "\n",
        "t2 = process_time()\n",
        "print(f\"El proceso ha tardado {t2-t1} segundos.\")"
      ],
      "metadata": {
        "id": "mFQ3tNU1qwMO",
        "outputId": "f923413d-984f-4d4c-ca2d-1d5bf016eec2",
        "colab": {
          "base_uri": "https://localhost:8080/"
        }
      },
      "execution_count": 57,
      "outputs": [
        {
          "output_type": "stream",
          "name": "stdout",
          "text": [
            "El proceso ha tardado 3.2578991780000024 segundos.\n"
          ]
        }
      ]
    },
    {
      "cell_type": "markdown",
      "source": [
        "## Práctica 3.5\n",
        "**Resolución de sistemas lineales en Python**  \n",
        "\n",
        "1. Cree un sistema de 4 ecuaciones con 4 incógnitas con **solución única**.\n",
        "2. La solución del sistema es: $\\; \\begin{pmatrix}x_1, x_2, x_3, x_4\\end{pmatrix} = \\begin{pmatrix} 3, 4, 5, 2\\end{pmatrix}$  \n",
        "3. Una de las ecuaciones del sistema es: $\\enspace x_1+3x_2-x_3-2x_4=6$  \n",
        "4. El vector $b$ de términos independientes es: $\\enspace b=\\begin{pmatrix}6, 3, 5, 7\\end{pmatrix}$  \n",
        "5. Usando números aleatorios elija los coeficientes que faltan de la matriz $A$ del sistema de ecuaciones.\n",
        "  - Los coeficientes deben ser números enteros entre -5 y +5, excluido el cero.\n",
        "  - Imprima la matriz $A$.  \n",
        "6. Calcule e imprima el determinante de $A$.\n",
        "7. Calcule e imprima la matriz inversa $A^{-1}$  \n",
        "8. Resuelva el sistema lineal de ecuaciones con este método: $$Ax=b \\quad \\Longrightarrow \\quad x=A^{-1}b$$\n",
        "9. Compruebe que el resultado obtenido es la solución del sistema de ecuaciones.  \n",
        "10. Resuelva nuevamente el sistema de ecuaciones usando ```np.linalg.solve```."
      ],
      "metadata": {
        "id": "tQQS7GPXIdjH"
      }
    },
    {
      "cell_type": "markdown",
      "source": [
        "### 3.5.1-3.5.4 Planteamiento del ejercicio \n",
        "\n",
        "* La solución del sistema es:\n",
        "$$\\begin{pmatrix}\n",
        "  x_1 \\\\\n",
        "  x_2 \\\\\n",
        "  x_3 \\\\\n",
        "  x_4\n",
        "\\end{pmatrix} = \\begin{pmatrix}\n",
        "  3 \\\\\n",
        "  4 \\\\\n",
        "  5 \\\\\n",
        "  2\n",
        "\\end{pmatrix}$$\n",
        "\n",
        "* Una de las ecuaciones del sistema es: $\\enspace x_1+3x_2-x_3-2x_4=6$\n",
        "\n",
        "* El vector $b$ de términos independientes es \n",
        "$$b=\\begin{pmatrix}\n",
        "  6 \\\\\n",
        "  3 \\\\\n",
        "  5 \\\\\n",
        "  7\n",
        "\\end{pmatrix}$$\n",
        "* El sistema en forma matricial:  \n",
        "\n",
        "$$Ax = b$$\n",
        "* Los datos que conocemos: \n",
        "$$\\begin{pmatrix}\n",
        "    1 & 3 & -1 & -2 \\\\\n",
        "    a_{21} & a_{22} & a_{23} & a_{24} \\\\\n",
        "    a_{31} & a_{32} & a_{33} & a_{34} \\\\\n",
        "    a_{41} & a_{42} & a_{43} & a_{44}\n",
        "  \\end{pmatrix} \\begin{pmatrix}\n",
        "  3 \\\\\n",
        "  4 \\\\\n",
        "  5 \\\\\n",
        "  2\n",
        "\\end{pmatrix} = \\begin{pmatrix}\n",
        "  6 \\\\\n",
        "  3 \\\\\n",
        "  5 \\\\\n",
        "  7\n",
        "\\end{pmatrix}$$\n",
        "\n"
      ],
      "metadata": {
        "id": "pthcfMRjp97H"
      }
    },
    {
      "cell_type": "markdown",
      "source": [
        "### 3.5.5 Imprimir una matriz con números enteros entre -5 y +5, excluido el cero que cumplan las equivalencias\n"
      ],
      "metadata": {
        "id": "3FNrEEMhRbHX"
      }
    },
    {
      "cell_type": "code",
      "source": [
        "import numpy as np\n",
        "\n",
        "v = np.array([3,4,5,2])  \n",
        "\n",
        "def busca(b):\n",
        "    while True:\n",
        "        w = np.random.choice(list(range(-5,0)) + list(range(1,6)), 4)\n",
        "        if np.matmul(v, w) == b:   \n",
        "            break\n",
        "    return w\n",
        "\n",
        "b =  6; print(f\"{busca(b)} x {v} = {b}\")\n",
        "b =  3; print(f\"{busca(b)} x {v} = {b}\")\n",
        "b =  5; print(f\"{busca(b)} x {v} = {b}\")\n",
        "b =  7; print(f\"{busca(b)} x {v} = {b}\")"
      ],
      "metadata": {
        "colab": {
          "base_uri": "https://localhost:8080/"
        },
        "id": "RXe7-KD_zJc0",
        "outputId": "f522b965-dfc3-4e9b-cc5d-43867ac98970"
      },
      "execution_count": 1,
      "outputs": [
        {
          "output_type": "stream",
          "name": "stdout",
          "text": [
            "[-5  2  3 -1] x [3 4 5 2] = 6\n",
            "[ 4  5 -5 -2] x [3 4 5 2] = 3\n",
            "[ 1 -4  2  4] x [3 4 5 2] = 5\n",
            "[-5  4  2 -2] x [3 4 5 2] = 7\n"
          ]
        }
      ]
    },
    {
      "cell_type": "markdown",
      "source": [
        "## TRABAJAREMOS CON EL SIGUIENTE SISTEMA DE ECUACIONES OBTENIDO ANTERIORMENTE\n",
        "\n",
        "![Captura de pantalla (168).png](data:image/png;base64,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)"
      ],
      "metadata": {
        "id": "qf2fTTGX7nBJ"
      }
    },
    {
      "cell_type": "markdown",
      "source": [
        "## 3.5.6 Obtener su determinante"
      ],
      "metadata": {
        "id": "qC19lDUt721B"
      }
    },
    {
      "cell_type": "code",
      "source": [
        "import numpy as np\n",
        "m = [[-5,2,3,-1], [4,5,-5,-2], [1,-4,2,4], [-5,4,2,-2]]\n",
        "np.linalg.det(m)"
      ],
      "metadata": {
        "id": "DA-FtSBNbrBh",
        "outputId": "ab1968d8-1746-437b-e113-0436f9401aa4",
        "colab": {
          "base_uri": "https://localhost:8080/"
        }
      },
      "execution_count": 2,
      "outputs": [
        {
          "output_type": "execute_result",
          "data": {
            "text/plain": [
              "-9.999999999999975"
            ]
          },
          "metadata": {},
          "execution_count": 2
        }
      ]
    },
    {
      "cell_type": "markdown",
      "source": [
        "## 3.5.7 Obtener su matriz inversa"
      ],
      "metadata": {
        "id": "Vh3RO9BS8Dva"
      }
    },
    {
      "cell_type": "code",
      "source": [
        "import numpy as np\n",
        "\n",
        "m = np.array([[-5,2,3,-1], [4,5,-5,-2], [1,-4,2,4], [-5,4,2,-2]])\n",
        "print(\"\\nMatriz:\\n\")\n",
        "print(m)\n",
        "print()\n",
        "\n",
        "print(\"\\nMatriz Inversa:\\n\")\n",
        "minv = np.linalg.inv(m)\n",
        "print(minv)\n",
        "print()\n",
        "\n"
      ],
      "metadata": {
        "id": "O0PfbmWAp-P_",
        "outputId": "09824646-e235-46e4-b7ac-71207b8c519f",
        "colab": {
          "base_uri": "https://localhost:8080/"
        }
      },
      "execution_count": 59,
      "outputs": [
        {
          "output_type": "stream",
          "name": "stdout",
          "text": [
            "\n",
            "Matriz:\n",
            "\n",
            "[[-5  2  3 -1]\n",
            " [ 4  5 -5 -2]\n",
            " [ 1 -4  2  4]\n",
            " [-5  4  2 -2]]\n",
            "\n",
            "\n",
            "Matriz Inversa:\n",
            "\n",
            "[[ 6.8  1.6 -0.4 -5.8]\n",
            " [ 1.8  0.6  0.1 -1.3]\n",
            " [ 9.   2.  -0.5 -7.5]\n",
            " [-4.4 -0.8  0.7  3.9]]\n",
            "\n"
          ]
        }
      ]
    },
    {
      "cell_type": "markdown",
      "source": [
        "###3.5.8 Resolver el sistema de ecuaciones lineales mediante la siguiente equivalencia\n",
        "\n",
        "$$Ax=b \\quad \\Longrightarrow \\quad x=A^{-1}b$$"
      ],
      "metadata": {
        "id": "gJGYqPV__H_P"
      }
    },
    {
      "cell_type": "code",
      "source": [
        "import numpy as np\n",
        "matrizInv = minv\n",
        "matrizB = [[6], [3], [5], [7]]\n",
        "\n",
        "\n",
        "print(np.matmul(matrizInv,matrizB))  \n",
        "print()\n"
      ],
      "metadata": {
        "colab": {
          "base_uri": "https://localhost:8080/"
        },
        "id": "eMgyaz-j-9aC",
        "outputId": "f85ea068-e4b0-475b-88e7-7106746bdda9"
      },
      "execution_count": 4,
      "outputs": [
        {
          "output_type": "stream",
          "name": "stdout",
          "text": [
            "[[3.]\n",
            " [4.]\n",
            " [5.]\n",
            " [2.]]\n",
            "\n"
          ]
        }
      ]
    },
    {
      "cell_type": "markdown",
      "source": [
        "### 3.5.9 El resultado coincide con el del enunciado"
      ],
      "metadata": {
        "id": "Uem6l9suSmC8"
      }
    },
    {
      "cell_type": "markdown",
      "source": [
        "### 3.5.10 Resolver el sistema de ecuaciones lineales con ```np.linalg.solve```."
      ],
      "metadata": {
        "id": "QI2Mrwb6SwAX"
      }
    },
    {
      "cell_type": "code",
      "source": [
        "import numpy as np\n",
        "\n",
        "print(np.linalg.solve(m,matrizB))"
      ],
      "metadata": {
        "colab": {
          "base_uri": "https://localhost:8080/"
        },
        "id": "pkvnG6kdDbQE",
        "outputId": "eb9dc566-6c1c-4f38-d0f5-1f9425db4ba1"
      },
      "execution_count": 6,
      "outputs": [
        {
          "output_type": "stream",
          "name": "stdout",
          "text": [
            "[[3.]\n",
            " [4.]\n",
            " [5.]\n",
            " [2.]]\n"
          ]
        }
      ]
    },
    {
      "cell_type": "markdown",
      "source": [
        "## Práctica 3.6\n",
        "**Resolución de sistemas lineales con Octave**  \n",
        "\n",
        "1. Tome el mismo sistema 4x4 con solución única del ejercicio anterior.\n",
        "2. Muestra el sistema usando $\\LaTeX$\n",
        "3. Resuélvelo con Octave por dos métodos\n",
        "4. ¿Ambos métodos dan el mismo resultado?"
      ],
      "metadata": {
        "id": "M39ufifh_Jr8"
      }
    },
    {
      "cell_type": "markdown",
      "source": [
        "### 3.6.1 Trabajaremos con el mismo sistema 4x4 con solución única obtenido en el ejercicio anterior (3.5)\n",
        "\n",
        "![Captura de pantalla (168).png](data:image/png;base64,iVBORw0KGgoAAAANSUhEUgAAAYAAAABzCAYAAACRttW8AAAAAXNSR0IArs4c6QAAAARnQU1BAACxjwv8YQUAAAAJcEhZcwAADsMAAA7DAcdvqGQAABiOSURBVHhe7Z1nsBTFFsdbMWPOOYsBc86WsbRQMWBAEUur5KP6wW9+8KFlQi2lVLRUEEVEMZV6MVsmjJhzzjlnxfjer9nDG9e9uz2zPbOzO/9f1RZwuTuhw0ndfc4c77zzzt+rrrqqy4O///7bzZw5s/YvIYQQZWLO2p9CCCEqhhSAEEJUFCkAIYSoKFIAQghRUaQAhBCiokgBCCFERZECEEKIiiIFIIQQFSXXg2Dw559/1v4mhBCiTOSuAIQQQpQThYCEEKKiSAEIIURFkQIQQoiKIgUghBAVRQpACCEqihSAEEJUFCkAIYSoKFIAQghRUaQAhBCiokgBCCFERVEqiEAocP/555+7G2+80X366adu/vnndzvssIPbbrvtar8hioY++fbbb93tt9/uXnvtNTfPPPO4zTbbzO22225urrnmqv1WMcycOdM98cQT7p577nFzzjmnW2GFFdwBBxzgFl988dpvVAfNle6h1Arg999/dx9++KGbY445aj/5N/zfAgss4JZaaqnaT/Lhr7/+cq+//robPXq022ijjdxqq63mNthgA7feeuvVfqM59ZMC8hAUJN977733/H1++OEHN3DgQLf33nsHP2cI9ffIU+AxBl555RV32223/UuI0KY//fSTmzFjhnvrrbfcSy+95JZYYgl3wgknuPnmm6/2W8Xw448/uqlTp7p7773X7b777m7ZZZf1z7rQQgs17PuFF17YHXroob7d0mLK5tFHH03Vt/X9BijKtdZay+23337Bbfbzzz/793zyyScbft8U88MPP+w++ugj/3tbbrmlO+aYY/z/F0n9O7fT7r3IgOOPP/4/iy66aO2f5eKrr75yp5xyih9I06dPb/h5/PHH3ffff+822WST2rfygUHN8yBsRowY4XbddddUSofvf/LJJ+66665zKFwGIMIKQcG/55133tpvZscmHpOTicn1EUxPPfWUW3vttf3gjwVCiGsj4BZccEE/0Zlg3AeFEAMEzX333eeefvpp3+7cCwvfQPlj9aOMBw0a5N/9u+++c9tuu23hHsBvv/022wsZNWqUW2eddf7Rpygyng1jhX5gLL377rtuww03TPWsCLT/GW1u4sSJ7rnnnvPvjQAOge+++eab7tZbb/XGy9JLL+3HyPLLL+9WXnllN2DAgNpv9g/vwTXoj5VWWslb96+++qr79ddf3Zprrun7nn7h5zzbGmus4d+Tfyf7rggYo4899ph/3yWXXNK/L3OWZ6IfRMnXABAA999/vx/wDLz6DwIIS+iFF16ofaPcMDEWW2wxby0dccQR7vDDD3d77rmnF2yxQOisv/763soZOXKkGzZsmG9HlEAsmOTLLbecO/DAA/17cC8ECsoYQRAD+hfB8eWXX3pBsuKKK9b+p/uwfsdat37fcccd/bhFaaXhl19+8X2JIKPN02J9d/DBB/tnOeyww9xOO+3kFVcIfJ93Ydza9zfddFP3wAMPuG+++ab2W50HY4ixw3Mh8BmjPC9jFmUgZlH6RWDcSgbocccd96/P0Ucf7S1oMQsEDSEfvCGUCpOVkAxt9Nlnn9V+Kz5Yll9//bW/V6ggaYUJGsI+gwcPrv00Ljz322+/7S688ELvZSZ/dvHFF7uXX37Z/yw23ANvAM87jeeHUnzjjTfc888/78NMeYc9G4GXgPdqYae5557bK2e8PwyNskBbET7GC9hrr72iGlm9ROkVgA04XOX6z+abb+41OtZUN8A6AjHgsWPHupNOOsmNGTMmNyEDCBruhwe1yiqr1H4aByYYgoj3OOuss7yCGTJkSDQFQL9jqcZ+7iQWQvrjjz98aO6DDz7wsfrrr7/eCzRCW7EwxXL22We7008/3T3zzDNun332CQ7LYdGiNB555BHv4RH2ygLPwXrJGWec4fvunHPO8eG7rCBgWRtD+ccKMXLNhx56yD9f8nPqqae6O+64w/dXK/idjz/+2Id6iCKk/X5V6OptoLbAucsuu/jFwGnTpvl4HwOobCBsiEHiimKhM4GZ1JMmTcpFCSTXA7DSUJgxwULHqiLuSwyaODLxVjyBboF34LlZvCaeffXVV/sdRYSxDjnkEB8XjwX9Txycfqe9uN+zzz47e1G4FYxpFC5hDdafsihalCrrTYRtsOD5O+tnF1xwQSYlgBHAAj1ClXWXWArAvD/GVvJDKIfwDW3ZCowtxiIbA/g730VJPfjgg16Jill0tQJgQNOpiyyyiB80CL0bbrjBTZkypXAlwL2xgi+66KLZFkvSumLQJuPAFp8npstiXkxM+N98881+gY54b+xwAW2PMONdhg8f7jbeeGMv0AhRhELIAIVt7YVVaqGYojAlgPfCIj2WOX+PKfyB+9i6CWsAhDXxCELWZuhPFo1ZY9lmm20y92XyGeg3PkOHDvVjFK8gDQj/F1980U2YMMGtu+66fscTYyIGCGzWE1hsTn54RhQg7RECz7PMMsv4tuZdMb4Ys2zVjbVW1e10tQJgoCB02SmC9clODHZUXHHFFR1RAlhlWHZmsTTb3YNCwIPBimYxOyYoFQY52+9QOGzBizU5G8G12U2CMibEEArfQ5hZezE5UZJFQ0iA0A8hH9ZLiB3nGSZAENNWhDZDxijCFuGHN4e1ffLJJ7szzzzThzYIV1122WWZPC+eA+OJ98aDDoU+Jqx4zTXX+PY68sgjoy6s8lztegBcw3Y4sdZiHhghReREmnHay3S9AsBSwDXmw35fBg6WHDFEJk5R1Fv4fJrtOGDiY/kjbLCgYsF1UYYoABYKCY/Fisv3B/fE08CiT2M5oxy33nrr2e1F2CXmeYUQGCOE4PBEeBasRSztPMME3BPrn11OIVs4UZQYFghawoemLFEiCGAWYQnzpQVDgXfleVZfffXaT5uD9Y2yxNPmuY466qjo3hLvwjqHjQv7YMGz7hdizHANhD/zCw+H58bQwkNljBV9TqSslPocAGGMa6+91k9MQgyNwOJnIqDZsWQIIdC5DEy2D4YMlhDMDUcwbLXVVql3H2FxMOHHjx/v7rzzTv+cLOqxy4XrpdkN0h/cA8FCGIothjwzE5y4Jy40HglWULsg8DmEhPuPFcq7EEvefvvt/eSK0ebWXtwDZYayZFGPCYyi4V2w8gysOuLRac4BIPgIY2BBI8RYC2CdBmuaPmJehAq3ZvfnPsSix40b59sL4+T999/3nhl741v1vVnEHEC0D9Ywhg5bMNnlEjJ+6p+DsYwRtccee/gtpSH9Rtv39fW5yZMney8JAcu1GGcYQfXtRaiFcxxFnwOgzTB86Mu7777bzwGeEYOMNZROeJplpKsVgLl1xPkIpRBPRUhgKZEOIItV1B/tKgBAcNrhKZ6ZyYsCiGmNMClpEyxF4r0oxzwOnBEyQOhxfd6F+xGfjtnm1l48P/3PITMmMBYv79auAgDugaBACCL8+Tvvw+4RLMjQeHur+yMIeRfai2uiKPHOsh5I4t0ZRwhcwjihJJ+DMUGfbbHFFsFKm75HkaCA6A+uw4d+wQirb69OKQBkA/OKPsSYYIGakBs7BmN7LN1MqVNBYAFilbHnH6FeD8KORSEGL5OBMBAWDQMtpiACrst2N7Y8Hnvssd4KE+UBocZxfyzrTqWC6OT9ywoh2ksvvdRb3J1IBSGa09VrAOzVxhUlfsuEw6XGW4gt/JMQ6rjkkks6smNF/BOsUQQM2zdPO+00HyrqJHgBhMZ4lqwLs70A/WI74lisZjOCKCelDwFdddVV3q3EpcMjSH5wuW+66SbvCXA0PW9svQF3tz+XVxQL7j1KmdAW+XcwAnD1k+GhIrBwJOOCMREz5NaNECYiHIZnzvoCi7eaK+Wj9CEgy6xIHLgeBhmWBnH0c889t/ZTIYQQIZRaAeBCk6elGVjlWH77779/7SdCCCFCKLUCwL1nkbcVxP/T7IQQQghRcgUghBAiP6QAAmFnQ7KqEwt+9RWqRLHQJ2wUUEnIcqG50j1IAQRi5wCyloRMwuI1O5galTlsF05qWrk+I3ZZSEJzMUoLtqKVUEXQqCSkSkI2Inab9ypdfQ6gE3Byk6P3WfPWMDC/+OILf8KZnD2xU0EjHEgDwZ50S6KFsoqZ2x5lyOQiPQOnci1RV/3p3HZAWCE8yM6JgUIuHPL1k4PGMjmy9ZL32nnnnWen2e4kCEPyOvEs9ZXe8E4sUSDvgxBlC7O9SygmxKlfQEoJ/h5KjH7DeCHdCCk5+D7f5QAmqTMsgR79YnmxyEQbku8oD2K1eS8jBVAwCGgsVSYSuXPyAJebI++WROuggw6KfvwdgcHkz1pasBUIEQQo1yR1NimUEfRYvuTA6SaSApG2UknI/InZ5r2MFECBYL2RKgDXmDww5CkRjUHQIOQIt5Hqg9PdhFWwYjn4FQP6A2tWJSHDoS8IoZj3S7/gTZStJGQ9Wdu815ECKJCk9ZZnLiHi0YSY8iyDx4SKWVqwFYS0EMwIoEaHArOAlYjlS9uoJGQ28GjLWBIS2m3zKiAFUBBJ641dKsn4cExYo8A6JOUt8V0mJul6YyoBhDAx1VilBVvBRCbWTZyZrKBk7YwBXgZemEpC9l5JSGi3zatAqXMBlQkssKzpoPku8VEmCkKF3SEINbYuMolipsllIRKXHA+DOsBMHGLmeB6sOYQIDp6NNBxWu6C+ngATCwWGEOE+xKKZsORdZ7KFFnInZECbIHj7yylvVtyVV17pww0Ir0ZbK7Omg+Z+WPp4FTwD6cSJj6ct0tPq/sk2o704uHjXXXf5cARplZthO1rYNcZuGjwAFALCDIEYusgaq9+AcWu1FCgmgxJt5DFlSQeNoYKXwu4hsgHYB2WFrOJ+KIlWtNPmVUEeQAEgxBAsVoQDV5aMkWQxZUDmFT5hAjDYGfhsl+Q5QuB7ZjmZ9YVS6S/LKpOReyAA0pQWxCIlHGb34H4IJMMEHyEZhMKIESNyyeXOtbkPz49iV0nI5jCO3il5Sch60rZ5VZACKAAGH4KO7YGkq2YwY8UQysDyxLLOY2GKiUpcG6WDBYRQD4HnZaeIFQ9nB0X9tsYkWUoLAu9Me3APPsmtteY1TZs2zW+bpfC8/V9MeGaVhOy9kpD1pG3zqqCDYIHELgjDQu0tt9ziLa9YB2SYnMmTsUAogv5FsMWaqEwmwh0IAcAiw2IjPk+FqRhbQQkdUOyfBTwOGCH4mPhcu9Fp3ywFWXgPC2NgXdIP9DP9whkNwk2hh/Sa3b9Re/H/JDEknt+fYm0GynHixIn+GpxLCSFGvzFe+T65/lE8ppQxLhodauQ5O1EQJo8270W0BhAIwrXdkpBJGJAs2DKJYm7nw+onVopwxF3GWrRyhzFBQCP0zApNW1qwFbQ3k5hrYw3yLtyLP2mz+sNLWdcACAcg+FQSsrdKQkLsNu9F5AEEEtsDEHFpZoEXQafvX1Y65QGIMLQGkBKsa5WELAdYowgYlYQsF/SLSkJ2BwoBpQC33tzd/lxeUSwW8mJBWSUhywNhIsJhhKnYgKCSkOVEISAhhKgoCgEJIURFkQIQQoiKIgUghBAVRWsAgbCzgROQVmGov4MvojjoE5WELB+aK92DdgEFwqAmXw9JyTiIZMmz0u5sYHcEBWEuv/xyv3Mkj9w2YJNwypQps6s3xRSKyURu06dP9wnnYt/DaNZmtguIP8kYikIgpUPRCoBDR6QwJukeBVI4RGa7gKwvJk2a5Pr6+nwOHw5HMX6yZNBE2bDdlJTf7K8PHYO0UTLJH8+Rpe9C+t52AQF9Z8q5KBq1eX1SQ6EQUGo4RZi1JCQTBwuRwUgmx7wKjgD3suRh5HuJmQCLyU1elWZlAWPBRO6vhCbKgERmKgkZRpVKQjJuUECcQcAL41n58N5Z8ib1KlIABcHEwfoin/ugQYP8QMwLhATeChOTFNCxBzzCggleRFlAFFfeJTTzJikQaS+VhCwGa3cK1lu7N0tqWEWkAArCJg6x0MGDB9d+Gh8sH4QKE5IQA3leYkPemCLKAqLI8iyhyfWxZlUSMpyi+l4UgxRAQTBxsLwQynmCG46nQU57QiOhll07YKXHLgsIeZfQxEKkfWgzlYTMRh59zzVjlIQk5MUi9NixY/33x4wZk2vYtRuRAughLF5OhSfc8iJ2d2GVkgWTiUkWzFhCIGnt5lVCE69MJSF7syQkv0N2V1sbot2ZHywKSwn8HymALgM3m+IlZhUlk9JZvBwLiS13oSl+s4IAIJ/+hAkT/OJnrHvGsnZDMCUwZMgQv5sFy5y/x96dxX3wACmyQyyauDseAR5OK2gPUpGzmE/65qyhn+QzEBPnM3ToUC/88QrSkFffA5Y76wns2El+eEYUIO3RCov/27rLyJEj3bBhw7xXySK4mIUUQJfBJEMAmFWEcGSgMymw5lAGDPDzzz/flw5kgiLUzjvvvKjZSwkl5FUWkGsXWUIThUnoRyUhw8iz74HnatcDqIfvDBw40HuSpO4Ws5AC6DKalVFkiyqW5b777jt7wrBAh2uOu8+kigHKBoFJtSUUUuyygAgAlFwRJTQRroQEVBKyt0tComgxjFDuaQv+9zI6CRxIuwVhsJrYs83pSEINDEYEMuX48jq9ysTG+sdKPPHEE1NVjmpG2rKAMcBqa1ZCM0tBFtpHJSF7syRkcr6xoM+70s5UMUPJayvoLHQSOBCLw7ZTEhIrBEGBFcukYzDi0jKRiM1i+caEQc+kxnJm91EWy6kRtAXCBKEZUhYwBrwLHg5t1ej6KgkZRvI5GMO9XBLS5hvtRJ+yMQIlpWpt/0ceQCDtegAiX5pZ4EXQ6fuXlU55ACIMrQGkRCUhywPWKAJGJSHLBf2ikpDdgUJAKcCtN3c3z3CHCIdYr0pClg/CRITDCL+oJGR5UQhICCEqikJAQghRUaQAhBCiokgBCCFERdEaQCDsbOAEJFv9VOauHNAnKglZPjRXugcpgEDsHMDo0aP9GQCO4rO7wU5CtqJ+UkCegsLux6lWdmJQFCPm3nSrOMYWP4QtKQ1i36OVUOUdOZk6Y8YMnyuHRHgcsuvUOYCpU6f6NiFXP7uAEHi0faO+Jz0HqQ14p7RYu7DllGRnoWOw/nQsZOm7Vn3P+6KY2SZNziZ+j91ZRZ4DSD5jkk4aCWVEIaCUZC0JyaRgWxwDEgFmCa6y5nFphU2Abi0JibBCeJDKAgOFXDjk6ycNgZVRZOulSkKqJGQjONnMtlOe0T6c7ObZ8RZ5RiEFUCg2MfIuUWfCk4nZrSUhaSvahbwtpPKlrRD0WL7kUuomkgLR+l0lIfOlPmmivSfGFx5ArLQo3Y4UQI9h7ne3l4RE0CDkCLdxP+5BWAUrloNfMUBRYhGqJGQ4RfR9HqA4MR4YV3mWZO02pAAKBOFFDDjPEnW44b1SEjIJaRYQzAgg4vwxwDKnfWgzlYTMRh59zzVjlIQ0aDvSclCBLWblsl5ACqAgEDZ5l6jjer1SEjIJQotYN3FmsqjSjjHAGlRJyN4sCZmEtuM5WaMhky/tIGYhBRAJhK8lwDKLJWld1ceB8yhRx0DvppKQhAz6K29pmOWMoqSiE+0X06sxJaCSkL1VEtLgd/kO44pn7ETYrMxIAUQEwWQ7PfhgYfUX40UhxCxRx0DvtpKQCAwmpLUX1jFK0uCdLCSDUhsxYkR0wQxcm/uoJGQYMfq+GTxXLA/APCc8LS3+/hspgEjUW/h8sLT6mxgMzNgl6rqtJGT9To3k1lrugRU4bdo0H9YaPnx4qm23oSBcVRKyN0tCmlGEAogZOuwllA46EAZTOxXBsJqY8OPHj/exbKxxFvU4Icn12k0bjALCA0EwsHOGD7sd8DKwfkaNGuWFSAwI3fT19bnJkyd7SxklhjWKMOE5YggEFOT06dN97QXaCQuXnU20P/dHoWEpGlkqglkYAwuaZ2YtACHBvegj5kXouzS7P/chNDdu3DjfTixwUjiGw1FYpa363ixi61c+KHdCVqz1cC4lZPzUPwdtSbiFamhsKQ0RrGn7vtMVwdj5w/0xLqgKJv6JFEAg7SoAYEAS7iHsU0SJOlMKCLVuKwlp96CdsQa5tt0Di7f+8FIWBQD0CW2kkpDhVnWavu+kAuBZUVK0UaiCqxpKBREIlpJKQpYXhBopDlQSslwQxlNJyPKiNYCUEFNUSchygIWHgFFJyHJBv6gkZHegEFAKcOvN3e3P5RXFwtoKSpkYuEpClgfCRITDCFOpJGR5UQhICCEqikJAQghRUaQAhBCiokgBCCFERZECEEKIiiIFIIQQFUUKQAghKooUgBBCVBQpACGEqChSAEIIUVGkAIQQoqJIAQghREWRAhBCiIoiBSCEEBVFCkAIISqKFIAQQlQUKQAhhKgoUgBCCFFRpACEEKKiSAEIIURFkQIQQoiKIgUghBCVxLn/AusqJ5/Uw2ZJAAAAAElFTkSuQmCC)"
      ],
      "metadata": {
        "id": "NkV4jkEl8XRl"
      }
    },
    {
      "cell_type": "markdown",
      "source": [
        "### 3.6.2 Sistema expresado en $\\LaTeX$\n",
        "\n",
        "$$\\left.\n",
        "\\begin{array}{rcl}\n",
        "     -5x+2y+3z-1t  =  6\n",
        "  \\\\ 4x-5y-5z-2t  =  3\n",
        "  \\\\ 1x-4y+2z+4t  =  5\n",
        "  \\\\ -5x+4y+2z-2t  =  7\n",
        "\\end{array}\n",
        "\\right\\}\n",
        "$$"
      ],
      "metadata": {
        "id": "Kzm6o09R8std"
      }
    },
    {
      "cell_type": "markdown",
      "source": [
        "### 3.6.3 Resolver el sistema con octave mediante dos métodos distintos"
      ],
      "metadata": {
        "id": "RzwsMDH3Thp5"
      }
    },
    {
      "cell_type": "code",
      "source": [
        "!apt install octave\n",
        "!apt update"
      ],
      "metadata": {
        "colab": {
          "base_uri": "https://localhost:8080/"
        },
        "outputId": "f5757ba2-22f8-4aa7-e509-f4321ef2bef2",
        "id": "gE0Jjztx4mB9"
      },
      "execution_count": 7,
      "outputs": [
        {
          "output_type": "stream",
          "name": "stdout",
          "text": [
            "Reading package lists... Done\n",
            "Building dependency tree       \n",
            "Reading state information... Done\n",
            "The following package was automatically installed and is no longer required:\n",
            "  libnvidia-common-460\n",
            "Use 'apt autoremove' to remove it.\n",
            "The following additional packages will be installed:\n",
            "  aglfn epstool fonts-droid-fallback fonts-noto-mono ghostscript gnuplot-data\n",
            "  gnuplot-qt gsfonts imagemagick-6-common info install-info libamd2\n",
            "  libauthen-sasl-perl libcamd2 libccolamd2 libcholmod3 libcolamd2\n",
            "  libcupsfilters1 libcupsimage2 libcxsparse3 libdata-dump-perl libemf1\n",
            "  libencode-locale-perl libfftw3-single3 libfile-listing-perl libfltk-gl1.3\n",
            "  libfltk1.3 libfont-afm-perl libgail-common libgail18 libglpk40\n",
            "  libgraphicsmagick++-q16-12 libgraphicsmagick-q16-3 libgs9 libgs9-common\n",
            "  libgtk2.0-0 libgtk2.0-bin libgtk2.0-common libhtml-form-perl\n",
            "  libhtml-format-perl libhtml-parser-perl libhtml-tagset-perl\n",
            "  libhtml-tree-perl libhttp-cookies-perl libhttp-daemon-perl libhttp-date-perl\n",
            "  libhttp-message-perl libhttp-negotiate-perl libijs-0.35 libio-html-perl\n",
            "  libio-socket-ssl-perl libjbig2dec0 liblqr-1-0 liblua5.3-0\n",
            "  liblwp-mediatypes-perl liblwp-protocol-https-perl libmagick++-6.q16-7\n",
            "  libmagickcore-6.q16-3 libmagickwand-6.q16-3 libmailtools-perl libmetis5\n",
            "  libnet-http-perl libnet-smtp-ssl-perl libnet-ssleay-perl libnotify4\n",
            "  liboctave4 libosmesa6 libplot2c2 libportaudio2 libpstoedit0c2a libqrupdate1\n",
            "  libqscintilla2-qt5-13 libqscintilla2-qt5-l10n libqt5opengl5 libqt5svg5\n",
            "  libsuitesparseconfig5 libtext-unidecode-perl libtimedate-perl\n",
            "  libtry-tiny-perl libumfpack5 liburi-perl libwmf0.2-7 libwww-perl\n",
            "  libwww-robotrules-perl libwxbase3.0-0v5 libwxgtk3.0-0v5 libxml-libxml-perl\n",
            "  libxml-namespacesupport-perl libxml-parser-perl libxml-sax-base-perl\n",
            "  libxml-sax-expat-perl libxml-sax-perl libzip4 netbase notification-daemon\n",
            "  octave-common octave-doc perl-openssl-defaults poppler-data pstoedit\n",
            "  tex-common texinfo\n",
            "Suggested packages:\n",
            "  fonts-noto ghostscript-x gnuplot-doc texinfo-doc-nonfree libdigest-hmac-perl\n",
            "  libgssapi-perl libfftw3-bin libfftw3-dev libiodbc2-dev graphicsmagick-dbg\n",
            "  gvfs libcrypt-ssleay-perl libmagickcore-6.q16-3-extra libqscintilla2-doc\n",
            "  libwmf0.2-7-gtk libauthen-ntlm-perl liboctave-dev www-browser | pdf-viewer\n",
            "  poppler-utils fonts-japanese-mincho | fonts-ipafont-mincho\n",
            "  fonts-japanese-gothic | fonts-ipafont-gothic fonts-arphic-ukai\n",
            "  fonts-arphic-uming fonts-nanum xfig | ivtools-bin | tgif | transfig\n",
            "  debhelper texlive-base texlive-latex-base texlive-generic-recommended\n",
            "  texlive-fonts-recommended\n",
            "The following NEW packages will be installed:\n",
            "  aglfn epstool fonts-droid-fallback fonts-noto-mono ghostscript gnuplot-data\n",
            "  gnuplot-qt gsfonts imagemagick-6-common info install-info libamd2\n",
            "  libauthen-sasl-perl libcamd2 libccolamd2 libcholmod3 libcolamd2\n",
            "  libcupsfilters1 libcupsimage2 libcxsparse3 libdata-dump-perl libemf1\n",
            "  libencode-locale-perl libfftw3-single3 libfile-listing-perl libfltk-gl1.3\n",
            "  libfltk1.3 libfont-afm-perl libgail-common libgail18 libglpk40\n",
            "  libgraphicsmagick++-q16-12 libgraphicsmagick-q16-3 libgs9 libgs9-common\n",
            "  libgtk2.0-0 libgtk2.0-bin libgtk2.0-common libhtml-form-perl\n",
            "  libhtml-format-perl libhtml-parser-perl libhtml-tagset-perl\n",
            "  libhtml-tree-perl libhttp-cookies-perl libhttp-daemon-perl libhttp-date-perl\n",
            "  libhttp-message-perl libhttp-negotiate-perl libijs-0.35 libio-html-perl\n",
            "  libio-socket-ssl-perl libjbig2dec0 liblqr-1-0 liblua5.3-0\n",
            "  liblwp-mediatypes-perl liblwp-protocol-https-perl libmagick++-6.q16-7\n",
            "  libmagickcore-6.q16-3 libmagickwand-6.q16-3 libmailtools-perl libmetis5\n",
            "  libnet-http-perl libnet-smtp-ssl-perl libnet-ssleay-perl libnotify4\n",
            "  liboctave4 libosmesa6 libplot2c2 libportaudio2 libpstoedit0c2a libqrupdate1\n",
            "  libqscintilla2-qt5-13 libqscintilla2-qt5-l10n libqt5opengl5 libqt5svg5\n",
            "  libsuitesparseconfig5 libtext-unidecode-perl libtimedate-perl\n",
            "  libtry-tiny-perl libumfpack5 liburi-perl libwmf0.2-7 libwww-perl\n",
            "  libwww-robotrules-perl libwxbase3.0-0v5 libwxgtk3.0-0v5 libxml-libxml-perl\n",
            "  libxml-namespacesupport-perl libxml-parser-perl libxml-sax-base-perl\n",
            "  libxml-sax-expat-perl libxml-sax-perl libzip4 netbase notification-daemon\n",
            "  octave octave-common octave-doc perl-openssl-defaults poppler-data pstoedit\n",
            "  tex-common texinfo\n",
            "0 upgraded, 103 newly installed, 0 to remove and 20 not upgraded.\n",
            "Need to get 53.6 MB of archives.\n",
            "After this operation, 210 MB of additional disk space will be used.\n",
            "Get:1 http://archive.ubuntu.com/ubuntu bionic/main amd64 install-info amd64 6.5.0.dfsg.1-2 [55.4 kB]\n",
            "Get:2 http://archive.ubuntu.com/ubuntu bionic/main amd64 fonts-droid-fallback all 1:6.0.1r16-1.1 [1,805 kB]\n",
            "Get:3 http://archive.ubuntu.com/ubuntu bionic/main amd64 liblqr-1-0 amd64 0.4.2-2.1 [27.7 kB]\n",
            "Get:4 http://archive.ubuntu.com/ubuntu bionic-updates/main amd64 imagemagick-6-common all 8:6.9.7.4+dfsg-16ubuntu6.14 [60.5 kB]\n",
            "Get:5 http://archive.ubuntu.com/ubuntu bionic-updates/main amd64 libmagickcore-6.q16-3 amd64 8:6.9.7.4+dfsg-16ubuntu6.14 [1,622 kB]\n",
            "Get:6 http://archive.ubuntu.com/ubuntu bionic-updates/main amd64 libmagickwand-6.q16-3 amd64 8:6.9.7.4+dfsg-16ubuntu6.14 [294 kB]\n",
            "Get:7 http://archive.ubuntu.com/ubuntu bionic-updates/main amd64 libqt5svg5 amd64 5.9.5-0ubuntu1.1 [129 kB]\n",
            "Get:8 http://archive.ubuntu.com/ubuntu bionic/main amd64 poppler-data all 0.4.8-2 [1,479 kB]\n",
            "Get:9 http://archive.ubuntu.com/ubuntu bionic/main amd64 tex-common all 6.09 [33.0 kB]\n",
            "Get:10 http://archive.ubuntu.com/ubuntu bionic/main amd64 netbase all 5.4 [12.7 kB]\n",
            "Get:11 http://archive.ubuntu.com/ubuntu bionic/main amd64 info amd64 6.5.0.dfsg.1-2 [104 kB]\n",
            "Get:12 http://archive.ubuntu.com/ubuntu bionic-updates/main amd64 libcupsimage2 amd64 2.2.7-1ubuntu2.9 [18.6 kB]\n",
            "Get:13 http://archive.ubuntu.com/ubuntu bionic/main amd64 libijs-0.35 amd64 0.35-13 [15.5 kB]\n",
            "Get:14 http://archive.ubuntu.com/ubuntu bionic/main amd64 libjbig2dec0 amd64 0.13-6 [55.9 kB]\n",
            "Get:15 http://archive.ubuntu.com/ubuntu bionic-updates/main amd64 libgs9-common all 9.26~dfsg+0-0ubuntu0.18.04.17 [5,092 kB]\n",
            "Get:16 http://archive.ubuntu.com/ubuntu bionic-updates/main amd64 libgs9 amd64 9.26~dfsg+0-0ubuntu0.18.04.17 [2,267 kB]\n",
            "Get:17 http://archive.ubuntu.com/ubuntu bionic-updates/main amd64 ghostscript amd64 9.26~dfsg+0-0ubuntu0.18.04.17 [51.3 kB]\n",
            "Get:18 http://archive.ubuntu.com/ubuntu bionic/universe amd64 epstool amd64 3.08+repack-7 [108 kB]\n",
            "Get:19 http://archive.ubuntu.com/ubuntu bionic/main amd64 fonts-noto-mono all 20171026-2 [75.5 kB]\n",
            "Get:20 http://archive.ubuntu.com/ubuntu bionic/universe amd64 aglfn all 1.7-3 [29.4 kB]\n",
            "Get:21 http://archive.ubuntu.com/ubuntu bionic/universe amd64 gnuplot-data all 5.2.2+dfsg1-2ubuntu1 [56.7 kB]\n",
            "Get:22 http://archive.ubuntu.com/ubuntu bionic-updates/main amd64 liblua5.3-0 amd64 5.3.3-1ubuntu0.18.04.1 [115 kB]\n",
            "Get:23 http://archive.ubuntu.com/ubuntu bionic/universe amd64 libwxbase3.0-0v5 amd64 3.0.4+dfsg-3 [954 kB]\n",
            "Get:24 http://archive.ubuntu.com/ubuntu bionic/main amd64 libgtk2.0-common all 2.24.32-1ubuntu1 [125 kB]\n",
            "Get:25 http://archive.ubuntu.com/ubuntu bionic/main amd64 libgtk2.0-0 amd64 2.24.32-1ubuntu1 [1,769 kB]\n",
            "Get:26 http://archive.ubuntu.com/ubuntu bionic-updates/main amd64 libnotify4 amd64 0.7.7-3ubuntu0.18.04.1 [18.7 kB]\n",
            "Get:27 http://archive.ubuntu.com/ubuntu bionic/universe amd64 libwxgtk3.0-0v5 amd64 3.0.4+dfsg-3 [4,182 kB]\n",
            "Get:28 http://archive.ubuntu.com/ubuntu bionic/universe amd64 gnuplot-qt amd64 5.2.2+dfsg1-2ubuntu1 [1,013 kB]\n",
            "Get:29 http://archive.ubuntu.com/ubuntu bionic/main amd64 gsfonts all 1:8.11+urwcyr1.0.7~pre44-4.4 [3,120 kB]\n",
            "Get:30 http://archive.ubuntu.com/ubuntu bionic/main amd64 libsuitesparseconfig5 amd64 1:5.1.2-2 [9,044 B]\n",
            "Get:31 http://archive.ubuntu.com/ubuntu bionic/main amd64 libamd2 amd64 1:5.1.2-2 [19.5 kB]\n",
            "Get:32 http://archive.ubuntu.com/ubuntu bionic/main amd64 libcamd2 amd64 1:5.1.2-2 [20.9 kB]\n",
            "Get:33 http://archive.ubuntu.com/ubuntu bionic/main amd64 libccolamd2 amd64 1:5.1.2-2 [21.7 kB]\n",
            "Get:34 http://archive.ubuntu.com/ubuntu bionic/main amd64 libcolamd2 amd64 1:5.1.2-2 [16.2 kB]\n",
            "Get:35 http://archive.ubuntu.com/ubuntu bionic/main amd64 libmetis5 amd64 5.1.0.dfsg-5 [169 kB]\n",
            "Get:36 http://archive.ubuntu.com/ubuntu bionic/main amd64 libcholmod3 amd64 1:5.1.2-2 [300 kB]\n",
            "Get:37 http://archive.ubuntu.com/ubuntu bionic-updates/main amd64 libcupsfilters1 amd64 1.20.2-0ubuntu3.1 [108 kB]\n",
            "Get:38 http://archive.ubuntu.com/ubuntu bionic/main amd64 libcxsparse3 amd64 1:5.1.2-2 [63.9 kB]\n",
            "Get:39 http://archive.ubuntu.com/ubuntu bionic/main amd64 libdata-dump-perl all 1.23-1 [27.0 kB]\n",
            "Get:40 http://archive.ubuntu.com/ubuntu bionic/universe amd64 libemf1 amd64 1.0.9+git.10.3231442-1 [54.7 kB]\n",
            "Get:41 http://archive.ubuntu.com/ubuntu bionic/main amd64 libencode-locale-perl all 1.05-1 [12.3 kB]\n",
            "Get:42 http://archive.ubuntu.com/ubuntu bionic/main amd64 libfftw3-single3 amd64 3.3.7-1 [764 kB]\n",
            "Get:43 http://archive.ubuntu.com/ubuntu bionic/main amd64 libtimedate-perl all 2.3000-2 [37.5 kB]\n",
            "Get:44 http://archive.ubuntu.com/ubuntu bionic/main amd64 libhttp-date-perl all 6.02-1 [10.4 kB]\n",
            "Get:45 http://archive.ubuntu.com/ubuntu bionic/main amd64 libfile-listing-perl all 6.04-1 [9,774 B]\n",
            "Get:46 http://archive.ubuntu.com/ubuntu bionic/universe amd64 libfltk1.3 amd64 1.3.4-6 [523 kB]\n",
            "Get:47 http://archive.ubuntu.com/ubuntu bionic/universe amd64 libfltk-gl1.3 amd64 1.3.4-6 [37.7 kB]\n",
            "Get:48 http://archive.ubuntu.com/ubuntu bionic/main amd64 libfont-afm-perl all 1.20-2 [13.2 kB]\n",
            "Get:49 http://archive.ubuntu.com/ubuntu bionic/main amd64 libgail18 amd64 2.24.32-1ubuntu1 [14.2 kB]\n",
            "Get:50 http://archive.ubuntu.com/ubuntu bionic/main amd64 libgail-common amd64 2.24.32-1ubuntu1 [112 kB]\n",
            "Get:51 http://archive.ubuntu.com/ubuntu bionic/universe amd64 libglpk40 amd64 4.65-1 [378 kB]\n",
            "Get:52 http://archive.ubuntu.com/ubuntu bionic/main amd64 libwmf0.2-7 amd64 0.2.8.4-12 [150 kB]\n",
            "Get:53 http://archive.ubuntu.com/ubuntu bionic-updates/universe amd64 libgraphicsmagick-q16-3 amd64 1.3.28-2ubuntu0.1 [1,116 kB]\n",
            "Get:54 http://archive.ubuntu.com/ubuntu bionic-updates/universe amd64 libgraphicsmagick++-q16-12 amd64 1.3.28-2ubuntu0.1 [102 kB]\n",
            "Get:55 http://archive.ubuntu.com/ubuntu bionic/main amd64 libgtk2.0-bin amd64 2.24.32-1ubuntu1 [7,536 B]\n",
            "Get:56 http://archive.ubuntu.com/ubuntu bionic/main amd64 libhtml-tagset-perl all 3.20-3 [12.1 kB]\n",
            "Get:57 http://archive.ubuntu.com/ubuntu bionic/main amd64 liburi-perl all 1.73-1 [77.2 kB]\n",
            "Get:58 http://archive.ubuntu.com/ubuntu bionic/main amd64 libhtml-parser-perl amd64 3.72-3build1 [85.9 kB]\n",
            "Get:59 http://archive.ubuntu.com/ubuntu bionic/main amd64 libio-html-perl all 1.001-1 [14.9 kB]\n",
            "Get:60 http://archive.ubuntu.com/ubuntu bionic/main amd64 liblwp-mediatypes-perl all 6.02-1 [21.7 kB]\n",
            "Get:61 http://archive.ubuntu.com/ubuntu bionic/main amd64 libhttp-message-perl all 6.14-1 [72.1 kB]\n",
            "Get:62 http://archive.ubuntu.com/ubuntu bionic/main amd64 libhtml-form-perl all 6.03-1 [23.5 kB]\n",
            "Get:63 http://archive.ubuntu.com/ubuntu bionic/main amd64 libhtml-tree-perl all 5.07-1 [200 kB]\n",
            "Get:64 http://archive.ubuntu.com/ubuntu bionic/main amd64 libhtml-format-perl all 2.12-1 [41.3 kB]\n",
            "Get:65 http://archive.ubuntu.com/ubuntu bionic/main amd64 libhttp-cookies-perl all 6.04-1 [17.2 kB]\n",
            "Get:66 http://archive.ubuntu.com/ubuntu bionic-updates/main amd64 libhttp-daemon-perl all 6.01-1ubuntu0.1 [15.9 kB]\n",
            "Get:67 http://archive.ubuntu.com/ubuntu bionic/main amd64 libhttp-negotiate-perl all 6.00-2 [13.4 kB]\n",
            "Get:68 http://archive.ubuntu.com/ubuntu bionic/main amd64 perl-openssl-defaults amd64 3build1 [7,012 B]\n",
            "Get:69 http://archive.ubuntu.com/ubuntu bionic-updates/main amd64 libnet-ssleay-perl amd64 1.84-1ubuntu0.2 [283 kB]\n",
            "Get:70 http://archive.ubuntu.com/ubuntu bionic-updates/main amd64 libio-socket-ssl-perl all 2.060-3~ubuntu18.04.1 [173 kB]\n",
            "Get:71 http://archive.ubuntu.com/ubuntu bionic/main amd64 libnet-http-perl all 6.17-1 [22.7 kB]\n",
            "Get:72 http://archive.ubuntu.com/ubuntu bionic/main amd64 libtry-tiny-perl all 0.30-1 [20.5 kB]\n",
            "Get:73 http://archive.ubuntu.com/ubuntu bionic/main amd64 libwww-robotrules-perl all 6.01-1 [14.1 kB]\n",
            "Get:74 http://archive.ubuntu.com/ubuntu bionic-updates/main amd64 libwww-perl all 6.31-1ubuntu0.1 [137 kB]\n",
            "Get:75 http://archive.ubuntu.com/ubuntu bionic/main amd64 liblwp-protocol-https-perl all 6.07-2 [8,284 B]\n",
            "Get:76 http://archive.ubuntu.com/ubuntu bionic-updates/main amd64 libmagick++-6.q16-7 amd64 8:6.9.7.4+dfsg-16ubuntu6.14 [139 kB]\n",
            "Get:77 http://archive.ubuntu.com/ubuntu bionic/main amd64 libnet-smtp-ssl-perl all 1.04-1 [5,948 B]\n",
            "Get:78 http://archive.ubuntu.com/ubuntu bionic/main amd64 libmailtools-perl all 2.18-1 [74.0 kB]\n",
            "Get:79 http://archive.ubuntu.com/ubuntu bionic/universe amd64 libqrupdate1 amd64 1.1.2-2build1 [36.5 kB]\n",
            "Get:80 http://archive.ubuntu.com/ubuntu bionic/main amd64 libumfpack5 amd64 1:5.1.2-2 [229 kB]\n",
            "Get:81 http://archive.ubuntu.com/ubuntu bionic/universe amd64 liboctave4 amd64 4.2.2-1ubuntu1 [6,736 kB]\n",
            "Get:82 http://archive.ubuntu.com/ubuntu bionic/universe amd64 libplot2c2 amd64 2.6-9 [502 kB]\n",
            "Get:83 http://archive.ubuntu.com/ubuntu bionic/universe amd64 libportaudio2 amd64 19.6.0-1 [64.6 kB]\n",
            "Get:84 http://archive.ubuntu.com/ubuntu bionic/universe amd64 libzip4 amd64 1.1.2-1.1 [37.8 kB]\n",
            "Get:85 http://archive.ubuntu.com/ubuntu bionic/universe amd64 libpstoedit0c2a amd64 3.70-5 [349 kB]\n",
            "Get:86 http://archive.ubuntu.com/ubuntu bionic/universe amd64 libqscintilla2-qt5-l10n all 2.10.2+dfsg-4 [39.7 kB]\n",
            "Get:87 http://archive.ubuntu.com/ubuntu bionic/universe amd64 libqscintilla2-qt5-13 amd64 2.10.2+dfsg-4 [1,030 kB]\n",
            "Get:88 http://archive.ubuntu.com/ubuntu bionic-updates/main amd64 libqt5opengl5 amd64 5.9.5+dfsg-0ubuntu2.6 [132 kB]\n",
            "Get:89 http://archive.ubuntu.com/ubuntu bionic/universe amd64 libtext-unidecode-perl all 1.30-1 [99.0 kB]\n",
            "Get:90 http://archive.ubuntu.com/ubuntu bionic/main amd64 libxml-namespacesupport-perl all 1.12-1 [13.2 kB]\n",
            "Get:91 http://archive.ubuntu.com/ubuntu bionic/main amd64 libxml-sax-base-perl all 1.09-1 [18.8 kB]\n",
            "Get:92 http://archive.ubuntu.com/ubuntu bionic/main amd64 libxml-sax-perl all 0.99+dfsg-2ubuntu1 [64.6 kB]\n",
            "Get:93 http://archive.ubuntu.com/ubuntu bionic/main amd64 libxml-libxml-perl amd64 2.0128+dfsg-5 [316 kB]\n",
            "Get:94 http://archive.ubuntu.com/ubuntu bionic/main amd64 libxml-parser-perl amd64 2.44-2build3 [199 kB]\n",
            "Get:95 http://archive.ubuntu.com/ubuntu bionic/main amd64 libxml-sax-expat-perl all 0.40-2 [11.5 kB]\n",
            "Get:96 http://archive.ubuntu.com/ubuntu bionic/main amd64 notification-daemon amd64 3.20.0-3 [36.9 kB]\n",
            "Get:97 http://archive.ubuntu.com/ubuntu bionic/universe amd64 pstoedit amd64 3.70-5 [102 kB]\n",
            "Get:98 http://archive.ubuntu.com/ubuntu bionic/universe amd64 texinfo amd64 6.5.0.dfsg.1-2 [752 kB]\n",
            "Get:99 http://archive.ubuntu.com/ubuntu bionic/main amd64 libauthen-sasl-perl all 2.1600-1 [48.7 kB]\n",
            "Get:100 http://archive.ubuntu.com/ubuntu bionic-updates/main amd64 libosmesa6 amd64 20.0.8-0ubuntu1~18.04.1 [2,641 kB]\n",
            "Get:101 http://archive.ubuntu.com/ubuntu bionic/universe amd64 octave-common all 4.2.2-1ubuntu1 [1,444 kB]\n",
            "Get:102 http://archive.ubuntu.com/ubuntu bionic/universe amd64 octave amd64 4.2.2-1ubuntu1 [1,583 kB]\n",
            "Get:103 http://archive.ubuntu.com/ubuntu bionic/universe amd64 octave-doc all 4.2.2-1ubuntu1 [6,836 kB]\n",
            "Fetched 53.6 MB in 5s (10.2 MB/s)\n",
            "Extracting templates from packages: 100%\n",
            "Selecting previously unselected package install-info.\n",
            "(Reading database ... 124016 files and directories currently installed.)\n",
            "Preparing to unpack .../install-info_6.5.0.dfsg.1-2_amd64.deb ...\n",
            "Unpacking install-info (6.5.0.dfsg.1-2) ...\n",
            "Setting up install-info (6.5.0.dfsg.1-2) ...\n",
            "Selecting previously unselected package fonts-droid-fallback.\n",
            "(Reading database ... 124029 files and directories currently installed.)\n",
            "Preparing to unpack .../000-fonts-droid-fallback_1%3a6.0.1r16-1.1_all.deb ...\n",
            "Unpacking fonts-droid-fallback (1:6.0.1r16-1.1) ...\n",
            "Selecting previously unselected package liblqr-1-0:amd64.\n",
            "Preparing to unpack .../001-liblqr-1-0_0.4.2-2.1_amd64.deb ...\n",
            "Unpacking liblqr-1-0:amd64 (0.4.2-2.1) ...\n",
            "Selecting previously unselected package imagemagick-6-common.\n",
            "Preparing to unpack .../002-imagemagick-6-common_8%3a6.9.7.4+dfsg-16ubuntu6.14_all.deb ...\n",
            "Unpacking imagemagick-6-common (8:6.9.7.4+dfsg-16ubuntu6.14) ...\n",
            "Selecting previously unselected package libmagickcore-6.q16-3:amd64.\n",
            "Preparing to unpack .../003-libmagickcore-6.q16-3_8%3a6.9.7.4+dfsg-16ubuntu6.14_amd64.deb ...\n",
            "Unpacking libmagickcore-6.q16-3:amd64 (8:6.9.7.4+dfsg-16ubuntu6.14) ...\n",
            "Selecting previously unselected package libmagickwand-6.q16-3:amd64.\n",
            "Preparing to unpack .../004-libmagickwand-6.q16-3_8%3a6.9.7.4+dfsg-16ubuntu6.14_amd64.deb ...\n",
            "Unpacking libmagickwand-6.q16-3:amd64 (8:6.9.7.4+dfsg-16ubuntu6.14) ...\n",
            "Selecting previously unselected package libqt5svg5:amd64.\n",
            "Preparing to unpack .../005-libqt5svg5_5.9.5-0ubuntu1.1_amd64.deb ...\n",
            "Unpacking libqt5svg5:amd64 (5.9.5-0ubuntu1.1) ...\n",
            "Selecting previously unselected package poppler-data.\n",
            "Preparing to unpack .../006-poppler-data_0.4.8-2_all.deb ...\n",
            "Unpacking poppler-data (0.4.8-2) ...\n",
            "Selecting previously unselected package tex-common.\n",
            "Preparing to unpack .../007-tex-common_6.09_all.deb ...\n",
            "Unpacking tex-common (6.09) ...\n",
            "Selecting previously unselected package netbase.\n",
            "Preparing to unpack .../008-netbase_5.4_all.deb ...\n",
            "Unpacking netbase (5.4) ...\n",
            "Selecting previously unselected package info.\n",
            "Preparing to unpack .../009-info_6.5.0.dfsg.1-2_amd64.deb ...\n",
            "Unpacking info (6.5.0.dfsg.1-2) ...\n",
            "Selecting previously unselected package libcupsimage2:amd64.\n",
            "Preparing to unpack .../010-libcupsimage2_2.2.7-1ubuntu2.9_amd64.deb ...\n",
            "Unpacking libcupsimage2:amd64 (2.2.7-1ubuntu2.9) ...\n",
            "Selecting previously unselected package libijs-0.35:amd64.\n",
            "Preparing to unpack .../011-libijs-0.35_0.35-13_amd64.deb ...\n",
            "Unpacking libijs-0.35:amd64 (0.35-13) ...\n",
            "Selecting previously unselected package libjbig2dec0:amd64.\n",
            "Preparing to unpack .../012-libjbig2dec0_0.13-6_amd64.deb ...\n",
            "Unpacking libjbig2dec0:amd64 (0.13-6) ...\n",
            "Selecting previously unselected package libgs9-common.\n",
            "Preparing to unpack .../013-libgs9-common_9.26~dfsg+0-0ubuntu0.18.04.17_all.deb ...\n",
            "Unpacking libgs9-common (9.26~dfsg+0-0ubuntu0.18.04.17) ...\n",
            "Selecting previously unselected package libgs9:amd64.\n",
            "Preparing to unpack .../014-libgs9_9.26~dfsg+0-0ubuntu0.18.04.17_amd64.deb ...\n",
            "Unpacking libgs9:amd64 (9.26~dfsg+0-0ubuntu0.18.04.17) ...\n",
            "Selecting previously unselected package ghostscript.\n",
            "Preparing to unpack .../015-ghostscript_9.26~dfsg+0-0ubuntu0.18.04.17_amd64.deb ...\n",
            "Unpacking ghostscript (9.26~dfsg+0-0ubuntu0.18.04.17) ...\n",
            "Selecting previously unselected package epstool.\n",
            "Preparing to unpack .../016-epstool_3.08+repack-7_amd64.deb ...\n",
            "Unpacking epstool (3.08+repack-7) ...\n",
            "Selecting previously unselected package fonts-noto-mono.\n",
            "Preparing to unpack .../017-fonts-noto-mono_20171026-2_all.deb ...\n",
            "Unpacking fonts-noto-mono (20171026-2) ...\n",
            "Selecting previously unselected package aglfn.\n",
            "Preparing to unpack .../018-aglfn_1.7-3_all.deb ...\n",
            "Unpacking aglfn (1.7-3) ...\n",
            "Selecting previously unselected package gnuplot-data.\n",
            "Preparing to unpack .../019-gnuplot-data_5.2.2+dfsg1-2ubuntu1_all.deb ...\n",
            "Unpacking gnuplot-data (5.2.2+dfsg1-2ubuntu1) ...\n",
            "Selecting previously unselected package liblua5.3-0:amd64.\n",
            "Preparing to unpack .../020-liblua5.3-0_5.3.3-1ubuntu0.18.04.1_amd64.deb ...\n",
            "Unpacking liblua5.3-0:amd64 (5.3.3-1ubuntu0.18.04.1) ...\n",
            "Selecting previously unselected package libwxbase3.0-0v5:amd64.\n",
            "Preparing to unpack .../021-libwxbase3.0-0v5_3.0.4+dfsg-3_amd64.deb ...\n",
            "Unpacking libwxbase3.0-0v5:amd64 (3.0.4+dfsg-3) ...\n",
            "Selecting previously unselected package libgtk2.0-common.\n",
            "Preparing to unpack .../022-libgtk2.0-common_2.24.32-1ubuntu1_all.deb ...\n",
            "Unpacking libgtk2.0-common (2.24.32-1ubuntu1) ...\n",
            "Selecting previously unselected package libgtk2.0-0:amd64.\n",
            "Preparing to unpack .../023-libgtk2.0-0_2.24.32-1ubuntu1_amd64.deb ...\n",
            "Unpacking libgtk2.0-0:amd64 (2.24.32-1ubuntu1) ...\n",
            "Selecting previously unselected package libnotify4:amd64.\n",
            "Preparing to unpack .../024-libnotify4_0.7.7-3ubuntu0.18.04.1_amd64.deb ...\n",
            "Unpacking libnotify4:amd64 (0.7.7-3ubuntu0.18.04.1) ...\n",
            "Selecting previously unselected package libwxgtk3.0-0v5:amd64.\n",
            "Preparing to unpack .../025-libwxgtk3.0-0v5_3.0.4+dfsg-3_amd64.deb ...\n",
            "Unpacking libwxgtk3.0-0v5:amd64 (3.0.4+dfsg-3) ...\n",
            "Selecting previously unselected package gnuplot-qt.\n",
            "Preparing to unpack .../026-gnuplot-qt_5.2.2+dfsg1-2ubuntu1_amd64.deb ...\n",
            "Unpacking gnuplot-qt (5.2.2+dfsg1-2ubuntu1) ...\n",
            "Selecting previously unselected package gsfonts.\n",
            "Preparing to unpack .../027-gsfonts_1%3a8.11+urwcyr1.0.7~pre44-4.4_all.deb ...\n",
            "Unpacking gsfonts (1:8.11+urwcyr1.0.7~pre44-4.4) ...\n",
            "Selecting previously unselected package libsuitesparseconfig5:amd64.\n",
            "Preparing to unpack .../028-libsuitesparseconfig5_1%3a5.1.2-2_amd64.deb ...\n",
            "Unpacking libsuitesparseconfig5:amd64 (1:5.1.2-2) ...\n",
            "Selecting previously unselected package libamd2:amd64.\n",
            "Preparing to unpack .../029-libamd2_1%3a5.1.2-2_amd64.deb ...\n",
            "Unpacking libamd2:amd64 (1:5.1.2-2) ...\n",
            "Selecting previously unselected package libcamd2:amd64.\n",
            "Preparing to unpack .../030-libcamd2_1%3a5.1.2-2_amd64.deb ...\n",
            "Unpacking libcamd2:amd64 (1:5.1.2-2) ...\n",
            "Selecting previously unselected package libccolamd2:amd64.\n",
            "Preparing to unpack .../031-libccolamd2_1%3a5.1.2-2_amd64.deb ...\n",
            "Unpacking libccolamd2:amd64 (1:5.1.2-2) ...\n",
            "Selecting previously unselected package libcolamd2:amd64.\n",
            "Preparing to unpack .../032-libcolamd2_1%3a5.1.2-2_amd64.deb ...\n",
            "Unpacking libcolamd2:amd64 (1:5.1.2-2) ...\n",
            "Selecting previously unselected package libmetis5:amd64.\n",
            "Preparing to unpack .../033-libmetis5_5.1.0.dfsg-5_amd64.deb ...\n",
            "Unpacking libmetis5:amd64 (5.1.0.dfsg-5) ...\n",
            "Selecting previously unselected package libcholmod3:amd64.\n",
            "Preparing to unpack .../034-libcholmod3_1%3a5.1.2-2_amd64.deb ...\n",
            "Unpacking libcholmod3:amd64 (1:5.1.2-2) ...\n",
            "Selecting previously unselected package libcupsfilters1:amd64.\n",
            "Preparing to unpack .../035-libcupsfilters1_1.20.2-0ubuntu3.1_amd64.deb ...\n",
            "Unpacking libcupsfilters1:amd64 (1.20.2-0ubuntu3.1) ...\n",
            "Selecting previously unselected package libcxsparse3:amd64.\n",
            "Preparing to unpack .../036-libcxsparse3_1%3a5.1.2-2_amd64.deb ...\n",
            "Unpacking libcxsparse3:amd64 (1:5.1.2-2) ...\n",
            "Selecting previously unselected package libdata-dump-perl.\n",
            "Preparing to unpack .../037-libdata-dump-perl_1.23-1_all.deb ...\n",
            "Unpacking libdata-dump-perl (1.23-1) ...\n",
            "Selecting previously unselected package libemf1:amd64.\n",
            "Preparing to unpack .../038-libemf1_1.0.9+git.10.3231442-1_amd64.deb ...\n",
            "Unpacking libemf1:amd64 (1.0.9+git.10.3231442-1) ...\n",
            "Selecting previously unselected package libencode-locale-perl.\n",
            "Preparing to unpack .../039-libencode-locale-perl_1.05-1_all.deb ...\n",
            "Unpacking libencode-locale-perl (1.05-1) ...\n",
            "Selecting previously unselected package libfftw3-single3:amd64.\n",
            "Preparing to unpack .../040-libfftw3-single3_3.3.7-1_amd64.deb ...\n",
            "Unpacking libfftw3-single3:amd64 (3.3.7-1) ...\n",
            "Selecting previously unselected package libtimedate-perl.\n",
            "Preparing to unpack .../041-libtimedate-perl_2.3000-2_all.deb ...\n",
            "Unpacking libtimedate-perl (2.3000-2) ...\n",
            "Selecting previously unselected package libhttp-date-perl.\n",
            "Preparing to unpack .../042-libhttp-date-perl_6.02-1_all.deb ...\n",
            "Unpacking libhttp-date-perl (6.02-1) ...\n",
            "Selecting previously unselected package libfile-listing-perl.\n",
            "Preparing to unpack .../043-libfile-listing-perl_6.04-1_all.deb ...\n",
            "Unpacking libfile-listing-perl (6.04-1) ...\n",
            "Selecting previously unselected package libfltk1.3:amd64.\n",
            "Preparing to unpack .../044-libfltk1.3_1.3.4-6_amd64.deb ...\n",
            "Unpacking libfltk1.3:amd64 (1.3.4-6) ...\n",
            "Selecting previously unselected package libfltk-gl1.3:amd64.\n",
            "Preparing to unpack .../045-libfltk-gl1.3_1.3.4-6_amd64.deb ...\n",
            "Unpacking libfltk-gl1.3:amd64 (1.3.4-6) ...\n",
            "Selecting previously unselected package libfont-afm-perl.\n",
            "Preparing to unpack .../046-libfont-afm-perl_1.20-2_all.deb ...\n",
            "Unpacking libfont-afm-perl (1.20-2) ...\n",
            "Selecting previously unselected package libgail18:amd64.\n",
            "Preparing to unpack .../047-libgail18_2.24.32-1ubuntu1_amd64.deb ...\n",
            "Unpacking libgail18:amd64 (2.24.32-1ubuntu1) ...\n",
            "Selecting previously unselected package libgail-common:amd64.\n",
            "Preparing to unpack .../048-libgail-common_2.24.32-1ubuntu1_amd64.deb ...\n",
            "Unpacking libgail-common:amd64 (2.24.32-1ubuntu1) ...\n",
            "Selecting previously unselected package libglpk40:amd64.\n",
            "Preparing to unpack .../049-libglpk40_4.65-1_amd64.deb ...\n",
            "Unpacking libglpk40:amd64 (4.65-1) ...\n",
            "Selecting previously unselected package libwmf0.2-7:amd64.\n",
            "Preparing to unpack .../050-libwmf0.2-7_0.2.8.4-12_amd64.deb ...\n",
            "Unpacking libwmf0.2-7:amd64 (0.2.8.4-12) ...\n",
            "Selecting previously unselected package libgraphicsmagick-q16-3.\n",
            "Preparing to unpack .../051-libgraphicsmagick-q16-3_1.3.28-2ubuntu0.1_amd64.deb ...\n",
            "Unpacking libgraphicsmagick-q16-3 (1.3.28-2ubuntu0.1) ...\n",
            "Selecting previously unselected package libgraphicsmagick++-q16-12.\n",
            "Preparing to unpack .../052-libgraphicsmagick++-q16-12_1.3.28-2ubuntu0.1_amd64.deb ...\n",
            "Unpacking libgraphicsmagick++-q16-12 (1.3.28-2ubuntu0.1) ...\n",
            "Selecting previously unselected package libgtk2.0-bin.\n",
            "Preparing to unpack .../053-libgtk2.0-bin_2.24.32-1ubuntu1_amd64.deb ...\n",
            "Unpacking libgtk2.0-bin (2.24.32-1ubuntu1) ...\n",
            "Selecting previously unselected package libhtml-tagset-perl.\n",
            "Preparing to unpack .../054-libhtml-tagset-perl_3.20-3_all.deb ...\n",
            "Unpacking libhtml-tagset-perl (3.20-3) ...\n",
            "Selecting previously unselected package liburi-perl.\n",
            "Preparing to unpack .../055-liburi-perl_1.73-1_all.deb ...\n",
            "Unpacking liburi-perl (1.73-1) ...\n",
            "Selecting previously unselected package libhtml-parser-perl.\n",
            "Preparing to unpack .../056-libhtml-parser-perl_3.72-3build1_amd64.deb ...\n",
            "Unpacking libhtml-parser-perl (3.72-3build1) ...\n",
            "Selecting previously unselected package libio-html-perl.\n",
            "Preparing to unpack .../057-libio-html-perl_1.001-1_all.deb ...\n",
            "Unpacking libio-html-perl (1.001-1) ...\n",
            "Selecting previously unselected package liblwp-mediatypes-perl.\n",
            "Preparing to unpack .../058-liblwp-mediatypes-perl_6.02-1_all.deb ...\n",
            "Unpacking liblwp-mediatypes-perl (6.02-1) ...\n",
            "Selecting previously unselected package libhttp-message-perl.\n",
            "Preparing to unpack .../059-libhttp-message-perl_6.14-1_all.deb ...\n",
            "Unpacking libhttp-message-perl (6.14-1) ...\n",
            "Selecting previously unselected package libhtml-form-perl.\n",
            "Preparing to unpack .../060-libhtml-form-perl_6.03-1_all.deb ...\n",
            "Unpacking libhtml-form-perl (6.03-1) ...\n",
            "Selecting previously unselected package libhtml-tree-perl.\n",
            "Preparing to unpack .../061-libhtml-tree-perl_5.07-1_all.deb ...\n",
            "Unpacking libhtml-tree-perl (5.07-1) ...\n",
            "Selecting previously unselected package libhtml-format-perl.\n",
            "Preparing to unpack .../062-libhtml-format-perl_2.12-1_all.deb ...\n",
            "Unpacking libhtml-format-perl (2.12-1) ...\n",
            "Selecting previously unselected package libhttp-cookies-perl.\n",
            "Preparing to unpack .../063-libhttp-cookies-perl_6.04-1_all.deb ...\n",
            "Unpacking libhttp-cookies-perl (6.04-1) ...\n",
            "Selecting previously unselected package libhttp-daemon-perl.\n",
            "Preparing to unpack .../064-libhttp-daemon-perl_6.01-1ubuntu0.1_all.deb ...\n",
            "Unpacking libhttp-daemon-perl (6.01-1ubuntu0.1) ...\n",
            "Selecting previously unselected package libhttp-negotiate-perl.\n",
            "Preparing to unpack .../065-libhttp-negotiate-perl_6.00-2_all.deb ...\n",
            "Unpacking libhttp-negotiate-perl (6.00-2) ...\n",
            "Selecting previously unselected package perl-openssl-defaults:amd64.\n",
            "Preparing to unpack .../066-perl-openssl-defaults_3build1_amd64.deb ...\n",
            "Unpacking perl-openssl-defaults:amd64 (3build1) ...\n",
            "Selecting previously unselected package libnet-ssleay-perl.\n",
            "Preparing to unpack .../067-libnet-ssleay-perl_1.84-1ubuntu0.2_amd64.deb ...\n",
            "Unpacking libnet-ssleay-perl (1.84-1ubuntu0.2) ...\n",
            "Selecting previously unselected package libio-socket-ssl-perl.\n",
            "Preparing to unpack .../068-libio-socket-ssl-perl_2.060-3~ubuntu18.04.1_all.deb ...\n",
            "Unpacking libio-socket-ssl-perl (2.060-3~ubuntu18.04.1) ...\n",
            "Selecting previously unselected package libnet-http-perl.\n",
            "Preparing to unpack .../069-libnet-http-perl_6.17-1_all.deb ...\n",
            "Unpacking libnet-http-perl (6.17-1) ...\n",
            "Selecting previously unselected package libtry-tiny-perl.\n",
            "Preparing to unpack .../070-libtry-tiny-perl_0.30-1_all.deb ...\n",
            "Unpacking libtry-tiny-perl (0.30-1) ...\n",
            "Selecting previously unselected package libwww-robotrules-perl.\n",
            "Preparing to unpack .../071-libwww-robotrules-perl_6.01-1_all.deb ...\n",
            "Unpacking libwww-robotrules-perl (6.01-1) ...\n",
            "Selecting previously unselected package libwww-perl.\n",
            "Preparing to unpack .../072-libwww-perl_6.31-1ubuntu0.1_all.deb ...\n",
            "Unpacking libwww-perl (6.31-1ubuntu0.1) ...\n",
            "Selecting previously unselected package liblwp-protocol-https-perl.\n",
            "Preparing to unpack .../073-liblwp-protocol-https-perl_6.07-2_all.deb ...\n",
            "Unpacking liblwp-protocol-https-perl (6.07-2) ...\n",
            "Selecting previously unselected package libmagick++-6.q16-7:amd64.\n",
            "Preparing to unpack .../074-libmagick++-6.q16-7_8%3a6.9.7.4+dfsg-16ubuntu6.14_amd64.deb ...\n",
            "Unpacking libmagick++-6.q16-7:amd64 (8:6.9.7.4+dfsg-16ubuntu6.14) ...\n",
            "Selecting previously unselected package libnet-smtp-ssl-perl.\n",
            "Preparing to unpack .../075-libnet-smtp-ssl-perl_1.04-1_all.deb ...\n",
            "Unpacking libnet-smtp-ssl-perl (1.04-1) ...\n",
            "Selecting previously unselected package libmailtools-perl.\n",
            "Preparing to unpack .../076-libmailtools-perl_2.18-1_all.deb ...\n",
            "Unpacking libmailtools-perl (2.18-1) ...\n",
            "Selecting previously unselected package libqrupdate1:amd64.\n",
            "Preparing to unpack .../077-libqrupdate1_1.1.2-2build1_amd64.deb ...\n",
            "Unpacking libqrupdate1:amd64 (1.1.2-2build1) ...\n",
            "Selecting previously unselected package libumfpack5:amd64.\n",
            "Preparing to unpack .../078-libumfpack5_1%3a5.1.2-2_amd64.deb ...\n",
            "Unpacking libumfpack5:amd64 (1:5.1.2-2) ...\n",
            "Selecting previously unselected package liboctave4:amd64.\n",
            "Preparing to unpack .../079-liboctave4_4.2.2-1ubuntu1_amd64.deb ...\n",
            "Unpacking liboctave4:amd64 (4.2.2-1ubuntu1) ...\n",
            "Selecting previously unselected package libplot2c2:amd64.\n",
            "Preparing to unpack .../080-libplot2c2_2.6-9_amd64.deb ...\n",
            "Unpacking libplot2c2:amd64 (2.6-9) ...\n",
            "Selecting previously unselected package libportaudio2:amd64.\n",
            "Preparing to unpack .../081-libportaudio2_19.6.0-1_amd64.deb ...\n",
            "Unpacking libportaudio2:amd64 (19.6.0-1) ...\n",
            "Selecting previously unselected package libzip4:amd64.\n",
            "Preparing to unpack .../082-libzip4_1.1.2-1.1_amd64.deb ...\n",
            "Unpacking libzip4:amd64 (1.1.2-1.1) ...\n",
            "Selecting previously unselected package libpstoedit0c2a.\n",
            "Preparing to unpack .../083-libpstoedit0c2a_3.70-5_amd64.deb ...\n",
            "Unpacking libpstoedit0c2a (3.70-5) ...\n",
            "Selecting previously unselected package libqscintilla2-qt5-l10n.\n",
            "Preparing to unpack .../084-libqscintilla2-qt5-l10n_2.10.2+dfsg-4_all.deb ...\n",
            "Unpacking libqscintilla2-qt5-l10n (2.10.2+dfsg-4) ...\n",
            "Selecting previously unselected package libqscintilla2-qt5-13.\n",
            "Preparing to unpack .../085-libqscintilla2-qt5-13_2.10.2+dfsg-4_amd64.deb ...\n",
            "Unpacking libqscintilla2-qt5-13 (2.10.2+dfsg-4) ...\n",
            "Selecting previously unselected package libqt5opengl5:amd64.\n",
            "Preparing to unpack .../086-libqt5opengl5_5.9.5+dfsg-0ubuntu2.6_amd64.deb ...\n",
            "Unpacking libqt5opengl5:amd64 (5.9.5+dfsg-0ubuntu2.6) ...\n",
            "Selecting previously unselected package libtext-unidecode-perl.\n",
            "Preparing to unpack .../087-libtext-unidecode-perl_1.30-1_all.deb ...\n",
            "Unpacking libtext-unidecode-perl (1.30-1) ...\n",
            "Selecting previously unselected package libxml-namespacesupport-perl.\n",
            "Preparing to unpack .../088-libxml-namespacesupport-perl_1.12-1_all.deb ...\n",
            "Unpacking libxml-namespacesupport-perl (1.12-1) ...\n",
            "Selecting previously unselected package libxml-sax-base-perl.\n",
            "Preparing to unpack .../089-libxml-sax-base-perl_1.09-1_all.deb ...\n",
            "Unpacking libxml-sax-base-perl (1.09-1) ...\n",
            "Selecting previously unselected package libxml-sax-perl.\n",
            "Preparing to unpack .../090-libxml-sax-perl_0.99+dfsg-2ubuntu1_all.deb ...\n",
            "Unpacking libxml-sax-perl (0.99+dfsg-2ubuntu1) ...\n",
            "Selecting previously unselected package libxml-libxml-perl.\n",
            "Preparing to unpack .../091-libxml-libxml-perl_2.0128+dfsg-5_amd64.deb ...\n",
            "Unpacking libxml-libxml-perl (2.0128+dfsg-5) ...\n",
            "Selecting previously unselected package libxml-parser-perl.\n",
            "Preparing to unpack .../092-libxml-parser-perl_2.44-2build3_amd64.deb ...\n",
            "Unpacking libxml-parser-perl (2.44-2build3) ...\n",
            "Selecting previously unselected package libxml-sax-expat-perl.\n",
            "Preparing to unpack .../093-libxml-sax-expat-perl_0.40-2_all.deb ...\n",
            "Unpacking libxml-sax-expat-perl (0.40-2) ...\n",
            "Selecting previously unselected package notification-daemon.\n",
            "Preparing to unpack .../094-notification-daemon_3.20.0-3_amd64.deb ...\n",
            "Unpacking notification-daemon (3.20.0-3) ...\n",
            "Selecting previously unselected package pstoedit.\n",
            "Preparing to unpack .../095-pstoedit_3.70-5_amd64.deb ...\n",
            "Unpacking pstoedit (3.70-5) ...\n",
            "Selecting previously unselected package texinfo.\n",
            "Preparing to unpack .../096-texinfo_6.5.0.dfsg.1-2_amd64.deb ...\n",
            "Unpacking texinfo (6.5.0.dfsg.1-2) ...\n",
            "Selecting previously unselected package libauthen-sasl-perl.\n",
            "Preparing to unpack .../097-libauthen-sasl-perl_2.1600-1_all.deb ...\n",
            "Unpacking libauthen-sasl-perl (2.1600-1) ...\n",
            "Selecting previously unselected package libosmesa6:amd64.\n",
            "Preparing to unpack .../098-libosmesa6_20.0.8-0ubuntu1~18.04.1_amd64.deb ...\n",
            "Unpacking libosmesa6:amd64 (20.0.8-0ubuntu1~18.04.1) ...\n",
            "Selecting previously unselected package octave-common.\n",
            "Preparing to unpack .../099-octave-common_4.2.2-1ubuntu1_all.deb ...\n",
            "Unpacking octave-common (4.2.2-1ubuntu1) ...\n",
            "Selecting previously unselected package octave.\n",
            "Preparing to unpack .../100-octave_4.2.2-1ubuntu1_amd64.deb ...\n",
            "Unpacking octave (4.2.2-1ubuntu1) ...\n",
            "Selecting previously unselected package octave-doc.\n",
            "Preparing to unpack .../101-octave-doc_4.2.2-1ubuntu1_all.deb ...\n",
            "Unpacking octave-doc (4.2.2-1ubuntu1) ...\n",
            "Setting up libgs9-common (9.26~dfsg+0-0ubuntu0.18.04.17) ...\n",
            "Setting up libhtml-tagset-perl (3.20-3) ...\n",
            "Setting up imagemagick-6-common (8:6.9.7.4+dfsg-16ubuntu6.14) ...\n",
            "Setting up libnotify4:amd64 (0.7.7-3ubuntu0.18.04.1) ...\n",
            "Setting up libcxsparse3:amd64 (1:5.1.2-2) ...\n",
            "Setting up libtry-tiny-perl (0.30-1) ...\n",
            "Setting up fonts-droid-fallback (1:6.0.1r16-1.1) ...\n",
            "Setting up libfont-afm-perl (1.20-2) ...\n",
            "Setting up libgtk2.0-common (2.24.32-1ubuntu1) ...\n",
            "Setting up info (6.5.0.dfsg.1-2) ...\n",
            "update-alternatives: using /usr/bin/info to provide /usr/bin/infobrowser (infobrowser) in auto mode\n",
            "Setting up libportaudio2:amd64 (19.6.0-1) ...\n",
            "Setting up tex-common (6.09) ...\n",
            "update-language: texlive-base not installed and configured, doing nothing!\n",
            "Setting up libxml-namespacesupport-perl (1.12-1) ...\n",
            "Setting up gsfonts (1:8.11+urwcyr1.0.7~pre44-4.4) ...\n",
            "Setting up libencode-locale-perl (1.05-1) ...\n",
            "Setting up libtimedate-perl (2.3000-2) ...\n",
            "Setting up poppler-data (0.4.8-2) ...\n",
            "Setting up perl-openssl-defaults:amd64 (3build1) ...\n",
            "Setting up libosmesa6:amd64 (20.0.8-0ubuntu1~18.04.1) ...\n",
            "Setting up libio-html-perl (1.001-1) ...\n",
            "Setting up libtext-unidecode-perl (1.30-1) ...\n",
            "Setting up libqt5opengl5:amd64 (5.9.5+dfsg-0ubuntu2.6) ...\n",
            "Setting up fonts-noto-mono (20171026-2) ...\n",
            "Setting up libwxbase3.0-0v5:amd64 (3.0.4+dfsg-3) ...\n",
            "Setting up libqrupdate1:amd64 (1.1.2-2build1) ...\n",
            "Setting up libcupsfilters1:amd64 (1.20.2-0ubuntu3.1) ...\n",
            "Setting up libzip4:amd64 (1.1.2-1.1) ...\n",
            "Setting up libcupsimage2:amd64 (2.2.7-1ubuntu2.9) ...\n",
            "Setting up libxml-sax-base-perl (1.09-1) ...\n",
            "Setting up liblqr-1-0:amd64 (0.4.2-2.1) ...\n",
            "Setting up libjbig2dec0:amd64 (0.13-6) ...\n",
            "Setting up liblwp-mediatypes-perl (6.02-1) ...\n",
            "Setting up liburi-perl (1.73-1) ...\n",
            "Setting up libqt5svg5:amd64 (5.9.5-0ubuntu1.1) ...\n",
            "Setting up libsuitesparseconfig5:amd64 (1:5.1.2-2) ...\n",
            "Setting up libmetis5:amd64 (5.1.0.dfsg-5) ...\n",
            "Setting up libdata-dump-perl (1.23-1) ...\n",
            "Setting up libhtml-parser-perl (3.72-3build1) ...\n",
            "Setting up libijs-0.35:amd64 (0.35-13) ...\n",
            "Setting up libcolamd2:amd64 (1:5.1.2-2) ...\n",
            "Setting up libfltk1.3:amd64 (1.3.4-6) ...\n",
            "Setting up libccolamd2:amd64 (1:5.1.2-2) ...\n",
            "Setting up libfftw3-single3:amd64 (3.3.7-1) ...\n",
            "Setting up octave-common (4.2.2-1ubuntu1) ...\n",
            "Setting up libnet-http-perl (6.17-1) ...\n",
            "Setting up libqscintilla2-qt5-l10n (2.10.2+dfsg-4) ...\n",
            "Setting up libemf1:amd64 (1.0.9+git.10.3231442-1) ...\n",
            "Setting up aglfn (1.7-3) ...\n",
            "Setting up libplot2c2:amd64 (2.6-9) ...\n",
            "Setting up liblua5.3-0:amd64 (5.3.3-1ubuntu0.18.04.1) ...\n",
            "Setting up libgs9:amd64 (9.26~dfsg+0-0ubuntu0.18.04.17) ...\n",
            "Setting up libwmf0.2-7:amd64 (0.2.8.4-12) ...\n",
            "Setting up libwww-robotrules-perl (6.01-1) ...\n",
            "Setting up libauthen-sasl-perl (2.1600-1) ...\n",
            "Setting up notification-daemon (3.20.0-3) ...\n",
            "Setting up octave-doc (4.2.2-1ubuntu1) ...\n",
            "Setting up netbase (5.4) ...\n",
            "Setting up libxml-sax-perl (0.99+dfsg-2ubuntu1) ...\n",
            "update-perl-sax-parsers: Registering Perl SAX parser XML::SAX::PurePerl with priority 10...\n",
            "update-perl-sax-parsers: Updating overall Perl SAX parser modules info file...\n",
            "\n",
            "Creating config file /etc/perl/XML/SAX/ParserDetails.ini with new version\n",
            "Setting up libgtk2.0-0:amd64 (2.24.32-1ubuntu1) ...\n",
            "Setting up libhttp-date-perl (6.02-1) ...\n",
            "Setting up libmagickcore-6.q16-3:amd64 (8:6.9.7.4+dfsg-16ubuntu6.14) ...\n",
            "Setting up libgail18:amd64 (2.24.32-1ubuntu1) ...\n",
            "Setting up libnet-ssleay-perl (1.84-1ubuntu0.2) ...\n",
            "Setting up libfltk-gl1.3:amd64 (1.3.4-6) ...\n",
            "Setting up libcamd2:amd64 (1:5.1.2-2) ...\n",
            "Setting up libqscintilla2-qt5-13 (2.10.2+dfsg-4) ...\n",
            "Setting up libwxgtk3.0-0v5:amd64 (3.0.4+dfsg-3) ...\n",
            "Setting up libgail-common:amd64 (2.24.32-1ubuntu1) ...\n",
            "Setting up ghostscript (9.26~dfsg+0-0ubuntu0.18.04.17) ...\n",
            "Setting up gnuplot-data (5.2.2+dfsg1-2ubuntu1) ...\n",
            "Setting up libio-socket-ssl-perl (2.060-3~ubuntu18.04.1) ...\n",
            "Setting up libgraphicsmagick-q16-3 (1.3.28-2ubuntu0.1) ...\n",
            "Setting up libhtml-tree-perl (5.07-1) ...\n",
            "Setting up libamd2:amd64 (1:5.1.2-2) ...\n",
            "Setting up libmagickwand-6.q16-3:amd64 (8:6.9.7.4+dfsg-16ubuntu6.14) ...\n",
            "Setting up libfile-listing-perl (6.04-1) ...\n",
            "Setting up libhttp-message-perl (6.14-1) ...\n",
            "Setting up libxml-libxml-perl (2.0128+dfsg-5) ...\n",
            "update-perl-sax-parsers: Registering Perl SAX parser XML::LibXML::SAX::Parser with priority 50...\n",
            "update-perl-sax-parsers: Registering Perl SAX parser XML::LibXML::SAX with priority 50...\n",
            "update-perl-sax-parsers: Updating overall Perl SAX parser modules info file...\n",
            "Replacing config file /etc/perl/XML/SAX/ParserDetails.ini with new version\n",
            "Setting up libhttp-negotiate-perl (6.00-2) ...\n",
            "Setting up libgtk2.0-bin (2.24.32-1ubuntu1) ...\n",
            "Setting up libgraphicsmagick++-q16-12 (1.3.28-2ubuntu0.1) ...\n",
            "Setting up libnet-smtp-ssl-perl (1.04-1) ...\n",
            "Setting up libhtml-format-perl (2.12-1) ...\n",
            "Setting up libglpk40:amd64 (4.65-1) ...\n",
            "Setting up libhttp-cookies-perl (6.04-1) ...\n",
            "Setting up gnuplot-qt (5.2.2+dfsg1-2ubuntu1) ...\n",
            "update-alternatives: using /usr/bin/gnuplot-qt to provide /usr/bin/gnuplot (gnuplot) in auto mode\n",
            "Setting up epstool (3.08+repack-7) ...\n",
            "Setting up libhttp-daemon-perl (6.01-1ubuntu0.1) ...\n",
            "Setting up libcholmod3:amd64 (1:5.1.2-2) ...\n",
            "Setting up libmagick++-6.q16-7:amd64 (8:6.9.7.4+dfsg-16ubuntu6.14) ...\n",
            "Setting up libpstoedit0c2a (3.70-5) ...\n",
            "Setting up libhtml-form-perl (6.03-1) ...\n",
            "Setting up texinfo (6.5.0.dfsg.1-2) ...\n",
            "Setting up libmailtools-perl (2.18-1) ...\n",
            "Setting up libumfpack5:amd64 (1:5.1.2-2) ...\n",
            "Setting up pstoedit (3.70-5) ...\n",
            "Setting up liboctave4:amd64 (4.2.2-1ubuntu1) ...\n",
            "Setting up octave (4.2.2-1ubuntu1) ...\n",
            "Setting up liblwp-protocol-https-perl (6.07-2) ...\n",
            "Setting up libwww-perl (6.31-1ubuntu0.1) ...\n",
            "Setting up libxml-parser-perl (2.44-2build3) ...\n",
            "Setting up libxml-sax-expat-perl (0.40-2) ...\n",
            "update-perl-sax-parsers: Registering Perl SAX parser XML::SAX::Expat with priority 50...\n",
            "update-perl-sax-parsers: Updating overall Perl SAX parser modules info file...\n",
            "Replacing config file /etc/perl/XML/SAX/ParserDetails.ini with new version\n",
            "Processing triggers for fontconfig (2.12.6-0ubuntu2) ...\n",
            "Processing triggers for mime-support (3.60ubuntu1) ...\n",
            "Processing triggers for install-info (6.5.0.dfsg.1-2) ...\n",
            "Processing triggers for libc-bin (2.27-3ubuntu1.6) ...\n",
            "Processing triggers for man-db (2.8.3-2ubuntu0.1) ...\n",
            "Processing triggers for hicolor-icon-theme (0.17-2) ...\n",
            "Get:1 http://security.ubuntu.com/ubuntu bionic-security InRelease [88.7 kB]\n",
            "Get:2 https://cloud.r-project.org/bin/linux/ubuntu bionic-cran40/ InRelease [3,626 B]\n",
            "Hit:3 http://archive.ubuntu.com/ubuntu bionic InRelease\n",
            "Get:4 http://archive.ubuntu.com/ubuntu bionic-updates InRelease [88.7 kB]\n",
            "Ign:5 https://developer.download.nvidia.com/compute/machine-learning/repos/ubuntu1804/x86_64  InRelease\n",
            "Hit:6 https://developer.download.nvidia.com/compute/cuda/repos/ubuntu1804/x86_64  InRelease\n",
            "Hit:7 https://developer.download.nvidia.com/compute/machine-learning/repos/ubuntu1804/x86_64  Release\n",
            "Get:8 http://ppa.launchpad.net/c2d4u.team/c2d4u4.0+/ubuntu bionic InRelease [15.9 kB]\n",
            "Get:9 http://archive.ubuntu.com/ubuntu bionic-backports InRelease [83.3 kB]\n",
            "Hit:10 http://ppa.launchpad.net/cran/libgit2/ubuntu bionic InRelease\n",
            "Hit:11 http://ppa.launchpad.net/deadsnakes/ppa/ubuntu bionic InRelease\n",
            "Hit:12 http://ppa.launchpad.net/graphics-drivers/ppa/ubuntu bionic InRelease\n",
            "Get:14 http://ppa.launchpad.net/c2d4u.team/c2d4u4.0+/ubuntu bionic/main Sources [2,235 kB]\n",
            "Get:15 http://ppa.launchpad.net/c2d4u.team/c2d4u4.0+/ubuntu bionic/main amd64 Packages [1,143 kB]\n",
            "Fetched 3,659 kB in 4s (908 kB/s)\n",
            "Reading package lists... Done\n",
            "Building dependency tree       \n",
            "Reading state information... Done\n",
            "20 packages can be upgraded. Run 'apt list --upgradable' to see them.\n"
          ]
        }
      ]
    },
    {
      "cell_type": "code",
      "source": [
        "%%writefile ejercicioSeisMetodoUno.m\n",
        "A = [-5 2 3 -1; 4 5 -5 -2; 1 -4 2 4; -5 4 2 -2]\n",
        "b = [6; 3; 5; 7]\n",
        "x= inv(A)*b\n",
        "s1 =rats(x)"
      ],
      "metadata": {
        "id": "A3SaV2n7RzmS",
        "colab": {
          "base_uri": "https://localhost:8080/"
        },
        "outputId": "45a6460d-4b80-4325-98ff-cee2a7491eb2"
      },
      "execution_count": 13,
      "outputs": [
        {
          "output_type": "stream",
          "name": "stdout",
          "text": [
            "Overwriting ejercicioSeisMetodoUno.m\n"
          ]
        }
      ]
    },
    {
      "cell_type": "code",
      "source": [
        "!octave ejercicioSeisMetodoUno.m"
      ],
      "metadata": {
        "id": "S43zICbU4V9P",
        "colab": {
          "base_uri": "https://localhost:8080/"
        },
        "outputId": "ee3363f2-ad59-4d95-8e9e-9f5d7beac160"
      },
      "execution_count": 14,
      "outputs": [
        {
          "output_type": "stream",
          "name": "stdout",
          "text": [
            "octave: X11 DISPLAY environment variable not set\n",
            "octave: disabling GUI features\n",
            "A =\n",
            "\n",
            "  -5   2   3  -1\n",
            "   4   5  -5  -2\n",
            "   1  -4   2   4\n",
            "  -5   4   2  -2\n",
            "\n",
            "b =\n",
            "\n",
            "   6\n",
            "   3\n",
            "   5\n",
            "   7\n",
            "\n",
            "x =\n",
            "\n",
            "   3\n",
            "   4\n",
            "   5\n",
            "   2\n",
            "\n",
            "s1 =\n",
            "\n",
            "          3\n",
            "          4\n",
            "          5\n",
            "          2\n",
            "\n"
          ]
        }
      ]
    },
    {
      "cell_type": "code",
      "source": [
        "%%writefile ejercicioSeisMetodoDos.m\n",
        "A = [-5 2 3 -1; 4 5 -5 -2; 1 -4 2 4; -5 4 2 -2]\n",
        "b = [6; 3; 5; 7]\n",
        "x = A\\b\n",
        "% solución 3 \n",
        "s3 = rats(x)"
      ],
      "metadata": {
        "colab": {
          "base_uri": "https://localhost:8080/"
        },
        "id": "XW4OZwoQF57c",
        "outputId": "ebcb1a19-d89d-4743-8639-0775b6cf4d91"
      },
      "execution_count": 16,
      "outputs": [
        {
          "output_type": "stream",
          "name": "stdout",
          "text": [
            "Writing ejercicioSeisMetodoDos.m\n"
          ]
        }
      ]
    },
    {
      "cell_type": "code",
      "source": [
        "!octave ejercicioSeisMetodoDos.m"
      ],
      "metadata": {
        "id": "HnXMlrxA43Zq",
        "colab": {
          "base_uri": "https://localhost:8080/"
        },
        "outputId": "c81e252f-2ee7-4257-e27e-c13dcc2419a1"
      },
      "execution_count": 17,
      "outputs": [
        {
          "output_type": "stream",
          "name": "stdout",
          "text": [
            "octave: X11 DISPLAY environment variable not set\n",
            "octave: disabling GUI features\n",
            "A =\n",
            "\n",
            "  -5   2   3  -1\n",
            "   4   5  -5  -2\n",
            "   1  -4   2   4\n",
            "  -5   4   2  -2\n",
            "\n",
            "b =\n",
            "\n",
            "   6\n",
            "   3\n",
            "   5\n",
            "   7\n",
            "\n",
            "x =\n",
            "\n",
            "   3.0000\n",
            "   4.0000\n",
            "   5.0000\n",
            "   2.0000\n",
            "\n",
            "s3 =\n",
            "\n",
            "          3\n",
            "          4\n",
            "          5\n",
            "          2\n",
            "\n"
          ]
        }
      ]
    },
    {
      "cell_type": "markdown",
      "source": [
        "### 3.6.4 Ambos métodos expresan el mismo resultado, pero el segundo método expresa el valor de las incógnitas con decimales"
      ],
      "metadata": {
        "id": "6z5Qa_9QEUFC"
      }
    },
    {
      "cell_type": "markdown",
      "source": [
        "## Práctica 3.7\n",
        "**Diagonalización en Python**\n",
        "\n",
        "* Sea la matriz cuadrada $A$ de orden 4x4\n",
        "\n",
        "$$A=\\left(\n",
        "\\begin{array}{rrrr}\n",
        " -1 &-2 &  3 &-1 \\\\\n",
        "  0 & 2 &  0 & 0 \\\\\n",
        "  0 & 0 &  2 & 0 \\\\\n",
        "  0 & 0 &  0 & 1\n",
        "\\end{array}\n",
        "\\right)$$\n",
        "1. Calcula los **autovalores** y **autovectores**\n",
        "2. Calcula y muestra:\n",
        " - la matriz diagonal $D$\n",
        " - la matriz de paso $P$\n",
        " - su inversa $P^{-1}$  \n",
        "3. Comprueba que se cumple que $A^3=PD^3P^{-1}$"
      ],
      "metadata": {
        "id": "KOhR4DdkL7kg"
      }
    },
    {
      "cell_type": "markdown",
      "source": [
        "### 3.7.1 Calcular los autovalores y autovectores\n",
        "### 3.7.2 Calcular y mostrar \n",
        " - La matriz diagonal $D$\n",
        " - La matriz de paso $P$\n",
        " - Su inversa $P^{-1}$  "
      ],
      "metadata": {
        "id": "fmyiJhuVT7z7"
      }
    },
    {
      "cell_type": "code",
      "source": [
        "import numpy as np\n",
        "\n",
        "A = np.array([[ -1, -2, 3, -1],[ 0, 2, 0, 0],[ 0, 0, 2, 0],[ 0, 0, 0, 1]])\n",
        "d,p = np.linalg.eig(A)\n",
        "print(\"Autovalores: \", d)\n",
        "D = np.diag(d)\n",
        "Pinv = np.linalg.inv(p)\n",
        "print(\"\\nMatriz Diagonal:\\n\", D)\n",
        "print(\"\\nMatriz de paso:\\n\", p)\n",
        "print(\"\\nMatriz de paso inversa:\\n\", Pinv)"
      ],
      "metadata": {
        "colab": {
          "base_uri": "https://localhost:8080/"
        },
        "id": "FD4jzllnkAkB",
        "outputId": "21bb06e8-9e0d-43aa-b1a7-4cd0370a06d2"
      },
      "execution_count": 20,
      "outputs": [
        {
          "output_type": "stream",
          "name": "stdout",
          "text": [
            "Autovalores:  [-1.  2.  2.  1.]\n",
            "\n",
            "Matriz Diagonal:\n",
            " [[-1.  0.  0.  0.]\n",
            " [ 0.  2.  0.  0.]\n",
            " [ 0.  0.  2.  0.]\n",
            " [ 0.  0.  0.  1.]]\n",
            "\n",
            "Matriz de paso:\n",
            " [[ 1.         -0.5547002   0.70710678 -0.4472136 ]\n",
            " [ 0.          0.83205029  0.          0.        ]\n",
            " [ 0.          0.          0.70710678  0.        ]\n",
            " [ 0.          0.          0.          0.89442719]]\n",
            "\n",
            "Matriz de paso inversa:\n",
            " [[ 1.          0.66666667 -1.          0.5       ]\n",
            " [ 0.          1.20185043  0.          0.        ]\n",
            " [ 0.          0.          1.41421356  0.        ]\n",
            " [ 0.          0.          0.          1.11803399]]\n"
          ]
        }
      ]
    },
    {
      "cell_type": "markdown",
      "source": [
        "### 3.7.3 Comprobar que se cumple $A^3=PD^3P^{-1}$"
      ],
      "metadata": {
        "id": "AfzNAQNqUVBV"
      }
    },
    {
      "cell_type": "code",
      "source": [
        "import numpy as np\n",
        "\n",
        "A = np.array([[ -1, -2, 3, -1],[ 0, 2, 0, 0],[ 0, 0, 2, 0],[ 0, 0, 0, 1]])\n",
        "print(A@A@A)"
      ],
      "metadata": {
        "colab": {
          "base_uri": "https://localhost:8080/"
        },
        "id": "IeBi-3pwkGa_",
        "outputId": "0e182a31-37b4-478f-c86e-5feaa70e77b4"
      },
      "execution_count": 21,
      "outputs": [
        {
          "output_type": "stream",
          "name": "stdout",
          "text": [
            "[[-1 -6  9 -1]\n",
            " [ 0  8  0  0]\n",
            " [ 0  0  8  0]\n",
            " [ 0  0  0  1]]\n"
          ]
        }
      ]
    },
    {
      "cell_type": "code",
      "source": [
        "import numpy as np\n",
        "\n",
        "A = np.array([[-1,-2,3,-1],[0,2,0,0],[0,0,2,0],[0,0,0,1]])\n",
        "d,P = np.linalg.eig(A)\n",
        "print(\"Autovalores: \", d)\n",
        "D = np.diag(d)\n",
        "print(\"\\nMatriz diagonal:\\n\", D)\n",
        "print(\"\\nMatriz de paso:\\n\", P)\n",
        "Dcubo = D @ D @ D\n",
        "print(\"\\nMatriz diagonal al cubo:\\n\", Dcubo)\n",
        "print(\"\\nSolucion: \\n\", P @ Dcubo @ np.linalg.inv(P))"
      ],
      "metadata": {
        "colab": {
          "base_uri": "https://localhost:8080/"
        },
        "id": "7MqGMoqFkJ2w",
        "outputId": "e6bdc953-f9a9-4346-ac88-bddd04452d54"
      },
      "execution_count": 22,
      "outputs": [
        {
          "output_type": "stream",
          "name": "stdout",
          "text": [
            "Autovalores:  [-1.  2.  2.  1.]\n",
            "\n",
            "Matriz diagonal:\n",
            " [[-1.  0.  0.  0.]\n",
            " [ 0.  2.  0.  0.]\n",
            " [ 0.  0.  2.  0.]\n",
            " [ 0.  0.  0.  1.]]\n",
            "\n",
            "Matriz de paso:\n",
            " [[ 1.         -0.5547002   0.70710678 -0.4472136 ]\n",
            " [ 0.          0.83205029  0.          0.        ]\n",
            " [ 0.          0.          0.70710678  0.        ]\n",
            " [ 0.          0.          0.          0.89442719]]\n",
            "\n",
            "Matriz diagonal al cubo:\n",
            " [[-1.  0.  0.  0.]\n",
            " [ 0.  8.  0.  0.]\n",
            " [ 0.  0.  8.  0.]\n",
            " [ 0.  0.  0.  1.]]\n",
            "\n",
            "Solucion: \n",
            " [[-1. -6.  9. -1.]\n",
            " [ 0.  8.  0.  0.]\n",
            " [ 0.  0.  8.  0.]\n",
            " [ 0.  0.  0.  1.]]\n"
          ]
        }
      ]
    },
    {
      "cell_type": "markdown",
      "source": [
        "## Práctica 3.8\n",
        "**Diagonalización con Octave**\n",
        "\n",
        "Resuelva el ejercicio anterior, pero en esta ocasión utilizando Octave."
      ],
      "metadata": {
        "id": "tqHIq-of_N_v"
      }
    },
    {
      "cell_type": "code",
      "source": [
        "!apt install octave\n",
        "!apt update"
      ],
      "metadata": {
        "colab": {
          "base_uri": "https://localhost:8080/"
        },
        "id": "sUqV7H6EhbaM",
        "outputId": "6460b021-4d1f-4eb8-fb89-07aa35b41e84"
      },
      "execution_count": 23,
      "outputs": [
        {
          "output_type": "stream",
          "name": "stdout",
          "text": [
            "Reading package lists... Done\n",
            "Building dependency tree       \n",
            "Reading state information... Done\n",
            "octave is already the newest version (4.2.2-1ubuntu1).\n",
            "The following package was automatically installed and is no longer required:\n",
            "  libnvidia-common-460\n",
            "Use 'apt autoremove' to remove it.\n",
            "0 upgraded, 0 newly installed, 0 to remove and 20 not upgraded.\n",
            "Hit:1 https://cloud.r-project.org/bin/linux/ubuntu bionic-cran40/ InRelease\n",
            "Ign:2 https://developer.download.nvidia.com/compute/machine-learning/repos/ubuntu1804/x86_64  InRelease\n",
            "Hit:3 https://developer.download.nvidia.com/compute/cuda/repos/ubuntu1804/x86_64  InRelease\n",
            "Hit:4 https://developer.download.nvidia.com/compute/machine-learning/repos/ubuntu1804/x86_64  Release\n",
            "Hit:5 http://security.ubuntu.com/ubuntu bionic-security InRelease\n",
            "Hit:6 http://archive.ubuntu.com/ubuntu bionic InRelease\n",
            "Hit:7 http://archive.ubuntu.com/ubuntu bionic-updates InRelease\n",
            "Hit:8 http://ppa.launchpad.net/c2d4u.team/c2d4u4.0+/ubuntu bionic InRelease\n",
            "Hit:9 http://archive.ubuntu.com/ubuntu bionic-backports InRelease\n",
            "Hit:10 http://ppa.launchpad.net/cran/libgit2/ubuntu bionic InRelease\n",
            "Hit:12 http://ppa.launchpad.net/deadsnakes/ppa/ubuntu bionic InRelease\n",
            "Hit:13 http://ppa.launchpad.net/graphics-drivers/ppa/ubuntu bionic InRelease\n",
            "Reading package lists... Done\n",
            "Building dependency tree       \n",
            "Reading state information... Done\n",
            "20 packages can be upgraded. Run 'apt list --upgradable' to see them.\n"
          ]
        }
      ]
    },
    {
      "cell_type": "code",
      "source": [
        "%%writefile ejercicioOcho.m\n",
        "A = [-1,-2,3,-1; 0,2,0,0; 0,0,2,0; 0,0,0,1]\n",
        "[P,D]=eig(A)\n",
        "Dcubo = D^3\n",
        "Acubo = A^3\n",
        "PxDcuboXPinv = P*Dcubo*P^-1"
      ],
      "metadata": {
        "colab": {
          "base_uri": "https://localhost:8080/"
        },
        "id": "fJ-_EOnGh93l",
        "outputId": "4b592a84-e957-4463-e8c1-11540f6101de"
      },
      "execution_count": 27,
      "outputs": [
        {
          "output_type": "stream",
          "name": "stdout",
          "text": [
            "Overwriting ejercicioOcho.m\n"
          ]
        }
      ]
    },
    {
      "cell_type": "code",
      "source": [
        "!octave ejercicioOcho.m"
      ],
      "metadata": {
        "colab": {
          "base_uri": "https://localhost:8080/"
        },
        "id": "mit08wM_nkf-",
        "outputId": "339bc3f9-7604-437b-f675-6fa4a7d3274b"
      },
      "execution_count": 28,
      "outputs": [
        {
          "output_type": "stream",
          "name": "stdout",
          "text": [
            "octave: X11 DISPLAY environment variable not set\n",
            "octave: disabling GUI features\n",
            "A =\n",
            "\n",
            "  -1  -2   3  -1\n",
            "   0   2   0   0\n",
            "   0   0   2   0\n",
            "   0   0   0   1\n",
            "\n",
            "P =\n",
            "\n",
            "   1.00000  -0.55470   0.70711  -0.44721\n",
            "   0.00000   0.83205   0.00000   0.00000\n",
            "   0.00000   0.00000   0.70711   0.00000\n",
            "   0.00000   0.00000   0.00000   0.89443\n",
            "\n",
            "D =\n",
            "\n",
            "Diagonal Matrix\n",
            "\n",
            "  -1   0   0   0\n",
            "   0   2   0   0\n",
            "   0   0   2   0\n",
            "   0   0   0   1\n",
            "\n",
            "Dcubo =\n",
            "\n",
            "Diagonal Matrix\n",
            "\n",
            "  -1   0   0   0\n",
            "   0   8   0   0\n",
            "   0   0   8   0\n",
            "   0   0   0   1\n",
            "\n",
            "Acubo =\n",
            "\n",
            "  -1  -6   9  -1\n",
            "   0   8   0   0\n",
            "   0   0   8   0\n",
            "   0   0   0   1\n",
            "\n",
            "PxDcuboXPinv =\n",
            "\n",
            "  -1  -6   9  -1\n",
            "   0   8   0   0\n",
            "   0   0   8   0\n",
            "   0   0   0   1\n",
            "\n"
          ]
        }
      ]
    },
    {
      "cell_type": "markdown",
      "source": [
        "## Práctica 3.9\n",
        "**Libertad para elegir el lugar de trabajo**  \n",
        "Resolver con **Octave**.\n",
        "\n",
        "Una empresa de 1.000 empleados permite que sus trabajadores cada día acudan a trabajar a la oficina o que realicen su trabajo desde su casa. Inicialmente el 90% de la plantilla trabajaba en la oficina y solo el 10% lo hacían en casa. Se ha observado que los que un día trabajan en casa tienen una probabilidad del 70% de realizarlo también desde casa al día siguiente, pero que en el restante 30% de los casos acuden a la oficina al día siguiente. Por el contrario, se ha observado que los que un día trabajaron en la oficina al día siguiente vuelven\n",
        "a la oficina en el 60% de los casos y en el 40% restante van a su casa al día siguiente.\n",
        "* Determinar qué número de empleados se quedan en casa transcurridos dos días.\n",
        "* ¿Y a largo plazo cuantos se quedan en casa?"
      ],
      "metadata": {
        "id": "Aw283nkjdtcQ"
      }
    },
    {
      "cell_type": "code",
      "source": [
        "!apt install octave\n",
        "!apt update"
      ],
      "metadata": {
        "id": "KTSEltv2xr2f"
      },
      "execution_count": null,
      "outputs": []
    },
    {
      "cell_type": "code",
      "source": [
        "%%writefile ejercicioNueve.m\n",
        "empleados = 1000\n",
        "% state vector\n",
        "inicial = [.9; .1]\n",
        "% transition probability matrix\n",
        "A = [.6, .3; .4, .7]\n",
        "[P,D]=eig(A)\n",
        "Dcuadrado = D^2\n",
        "Acuadrado = A^2\n",
        "PxDcuadradoXPinv = P*Dcuadrado*P^-1\n",
        "dia2 = Acuadrado * inicial\n",
        "disp(\"Número de empleados que se quedan en casa el segundo día: \"),disp(dia2(2)*empleados)\n",
        "D10 = D^10\n",
        "A10 = P*D10*P^-1\n",
        "dia10 = A10 * inicial\n",
        "disp(\"Número de empleados que se quedan en casa a largo plazo son: \"),disp(dia10(2)*empleados)"
      ],
      "metadata": {
        "colab": {
          "base_uri": "https://localhost:8080/"
        },
        "outputId": "88988312-ba32-4411-f93c-91fcef8baf56",
        "id": "0we1q5ZHxr2f"
      },
      "execution_count": 31,
      "outputs": [
        {
          "output_type": "stream",
          "name": "stdout",
          "text": [
            "Overwriting ejercicioNueve.m\n"
          ]
        }
      ]
    },
    {
      "cell_type": "code",
      "source": [
        "!octave ejercicioNueve.m"
      ],
      "metadata": {
        "colab": {
          "base_uri": "https://localhost:8080/"
        },
        "id": "kX6dznw20KOp",
        "outputId": "381ddb9c-7c62-4bf0-a8c2-2d9ff9084d6d"
      },
      "execution_count": 32,
      "outputs": [
        {
          "output_type": "stream",
          "name": "stdout",
          "text": [
            "octave: X11 DISPLAY environment variable not set\n",
            "octave: disabling GUI features\n",
            "empleados =  1000\n",
            "inicial =\n",
            "\n",
            "   0.90000\n",
            "   0.10000\n",
            "\n",
            "A =\n",
            "\n",
            "   0.60000   0.30000\n",
            "   0.40000   0.70000\n",
            "\n",
            "P =\n",
            "\n",
            "  -0.70711  -0.60000\n",
            "   0.70711  -0.80000\n",
            "\n",
            "D =\n",
            "\n",
            "Diagonal Matrix\n",
            "\n",
            "   0.30000         0\n",
            "         0   1.00000\n",
            "\n",
            "Dcuadrado =\n",
            "\n",
            "Diagonal Matrix\n",
            "\n",
            "   0.090000          0\n",
            "          0   1.000000\n",
            "\n",
            "Acuadrado =\n",
            "\n",
            "   0.48000   0.39000\n",
            "   0.52000   0.61000\n",
            "\n",
            "PxDcuadradoXPinv =\n",
            "\n",
            "   0.48000   0.39000\n",
            "   0.52000   0.61000\n",
            "\n",
            "dia2 =\n",
            "\n",
            "   0.47100\n",
            "   0.52900\n",
            "\n",
            "Número de empleados que se quedan en casa el segundo día: \n",
            " 529\n",
            "D10 =\n",
            "\n",
            "Diagonal Matrix\n",
            "\n",
            "   5.9049e-06            0\n",
            "            0   1.0000e+00\n",
            "\n",
            "A10 =\n",
            "\n",
            "   0.42857   0.42857\n",
            "   0.57143   0.57143\n",
            "\n",
            "dia10 =\n",
            "\n",
            "   0.42857\n",
            "   0.57143\n",
            "\n",
            "Número de empleados que se quedan en casa a largo plazo son: \n",
            " 571.43\n"
          ]
        }
      ]
    },
    {
      "cell_type": "markdown",
      "source": [
        "## Práctica 3.10\n",
        "**Tendencia del mercado**  \n",
        "Resolver con **Python**.\n",
        "\n",
        "En el mercado de automóviles de gran lujo únicamente se disputan la clientela dos marcas (A y B). Las ventas son $M=100.000$ automóviles anuales, no variando esta cifra con el transcurso de los años. La marca A es líder de mercado en este momento con el 75% de las ventas. Sus directivos desean consolidar su liderazgo e incluso aumentarlo, para lo cual todos los años efectúan una fuerte campaña publicitaria con la que consiguen cada año un 40% de los que fueron clientes de su competidora, aunque la empresa A pierde un 20% de sus clientes que se van a la competencia.\n",
        "* ¿Cuál es la situación a los 3 años?\n",
        "* ¿Y al cabo de mucho tiempo?"
      ],
      "metadata": {
        "id": "lllngWn__QP0"
      }
    },
    {
      "cell_type": "code",
      "source": [
        "import numpy as np\n",
        "\n",
        "X0 = np.array([.75, .25])\n",
        "A = np.array([[.8, .4], [.2 ,.6]])\n",
        "X3 = A@A@A@X0\n",
        "print(\"Situación a los tres años:\", X3)\n",
        "\n",
        "d,P = np.linalg.eig(A)\n",
        "D = np.diag(d)\n",
        "Pinv = np.linalg.inv(P)\n",
        "A10 = P@(D**10)@Pinv\n",
        "X10 = A10@X0\n",
        "\n",
        "print(\"Situación a los diez años:\", X10)\n",
        "\n",
        "print(\"Situación a los cincuenta años:\", P@(D**50)@Pinv@X0)"
      ],
      "metadata": {
        "colab": {
          "base_uri": "https://localhost:8080/"
        },
        "id": "EnH8FyJ0CkZv",
        "outputId": "b92aef87-b920-446d-e96d-57d5c72127f4"
      },
      "execution_count": null,
      "outputs": [
        {
          "output_type": "stream",
          "name": "stdout",
          "text": [
            "Situación a los tres años: [0.672 0.328]\n",
            "Situación a los diez años: [0.6666754 0.3333246]\n",
            "Situación a los cincuenta años: [0.66666667 0.33333333]\n"
          ]
        }
      ]
    }
  ]
}